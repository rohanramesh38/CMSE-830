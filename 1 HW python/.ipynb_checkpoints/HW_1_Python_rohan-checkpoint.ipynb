{
 "cells": [
  {
   "cell_type": "markdown",
   "metadata": {
    "id": "GLkF7SgBhl-q"
   },
   "source": [
    "____\n",
    "# <font color=#FFBB00> HW #1: Data Science and (a little) Python </font>\n",
    "____\n",
    "\n",
    "This HW is due at midnight Friday in D2L. Remember that HWs are not done in groups, but _on your own_. However, if you need help, you are free to use the internet, other students in the class or the instructors.\n",
    "\n",
    "If you have general questions or interesting insights/tricks, please post them on Slack."
   ]
  },
  {
   "cell_type": "markdown",
   "metadata": {
    "id": "9mIh0pvHscHy"
   },
   "source": [
    "____\n",
    "\n",
    "### Markdown\n",
    "\n",
    "This HW uses a lot of markdown. Knowing markdown well will make your Jupyter notebook life a lot more fun. And, you can use markdown for many other tasks that have nothing to do with Jupyter notebooks - it's a general way to format text. For example, when I want to do quick editing tasks, I very often use [a markdown editor like this one](https://macdown.uranusjr.com/). (If you use a Windows OS, there are equivalents that you can find in the link below.)\n",
    "\n",
    "Before you get started on the HW problems below, read these webpages:\n",
    "* [Markdown Guide](https://www.markdownguide.org/getting-started/)\n",
    "* [Basic Syntax](https://www.markdownguide.org/basic-syntax/)\n",
    "\n",
    "👨🏽‍🏫 You will notice that I am using several features of markdown to write this cell! If you open this markdown cell, you can see all of the commands I used.\n",
    "\n",
    "As you answer the questions below, use the features of markdown, such as lists, web links and [tables](https://www.tablesgenerator.com/markdown_tables).\n",
    "\n",
    "👩🏽‍💻 Once you are done learning markdown well, continue to the HW below. **Important:** problem 11 is much more involved than the others, so you might start with that.\n",
    "____"
   ]
  },
  {
   "cell_type": "markdown",
   "metadata": {
    "id": "aNSTybvtj2Wq"
   },
   "source": [
    "✍🏼 **Problem 1**: Read the syllabus for this class and answer the following two questions. Open a markdown cell below this one to put your answers.\n",
    "1. What is the late policy for this class?\n",
    ">* ICA : ICA are inclass assignments can be done as small groups and has to be submitted at the end of each class. time for submission can be extended based on request, if delayed than the extended period we would get zero credit.\n",
    ">* Home work : graded normally if submitted ontime, 75% of max mark obtained on a late submission, 0 credit on late after a week\n",
    "\n",
    "2. Describe in your own words the Spartan Code of Honor.\n",
    ">* spartan code of honour specifies the moral values of a spartan should uphold. those are to be ethical and honest in the works we submit or do, and uphold the values with the peers to encourage honesty in others . understanding knowledge and honour in ownership is greater than grades  we obtain and to carry these values beyond MSU with personal integrity in every part for work we do.\n"
   ]
  },
  {
   "cell_type": "markdown",
   "metadata": {
    "id": "f2THRB5GkYJm"
   },
   "source": [
    "✍🏼 **Problem 2**: Define these terms in your own words, again in a new markdown cell. Discuss how they might be used differently in a data science context.\n",
    "\n",
    "* **cardinal number**\n",
    "> they are mostly positive numbers and used for counting. It denotes how many quantities, objects, entities, etc.\n",
    "\n",
    "* **ordinal number**\n",
    "> they represent the position or order in which something is arranged, ordinal cannot be negative. It represents a rank or place in relation to other items and often follows a natural order, such as first, second, third, and so on.\n",
    "\n",
    "* **nominal number**\n",
    "> they represent categorical data, like gender,type of animal, day of the week.it is used to classify items into distinct groups, but there is no numerical value or inherent order associated with these categories.\n"
   ]
  },
  {
   "cell_type": "markdown",
   "metadata": {
    "id": "Q_W_u5ijk7Z1"
   },
   "source": [
    "✍🏼 **Problem 3**: Write a paragraph about John W. Tukey. You can use the class sides, but also Wikipedia or any other source. Why is he important to data science? Open a markdown cell below this one to put your discussion."
   ]
  },
  {
   "cell_type": "markdown",
   "metadata": {},
   "source": [
    ">  John Wilder Tukey's is a statistician and mathematician. He made noteworthy contributions such as  **Exploratory Data Analysis (EDA):**, **Fast Fourier Transform (FFT):**, **Box Plot:**, and so on. John W. Tukey had a long and distinguished career, and his work continues to have an impact on a variety of scientific and engineering areas. He was a pioneer in bringing practical data analysis techniques to the forefront,and he is still an important figure in statistics and computer science history."
   ]
  },
  {
   "cell_type": "markdown",
   "metadata": {
    "id": "gMEK7m9mlJgH"
   },
   "source": [
    "✍🏼 **Problem 4**: Open a markdown cell and give your definition of data science."
   ]
  },
  {
   "cell_type": "markdown",
   "metadata": {},
   "source": [
    "> Data science combines the fields of mathematics, statistics, and computer science, making a new discipline. It encapsulates data mining and collection, data processing, exploratory data analysis, predictive analysis, process optimization, data visualization, and machine learning techniques. Data science is widely utilized to make data-driven decisions, enhance processes, and gain a competitive edge in a variety of industries, including finance, healthcare, e-commerce, marketing, and more. It is a rapidly developing, interdisciplinary field that is essential for obtaining useful information from the enormous amount of data produced in the modern digital environment."
   ]
  },
  {
   "cell_type": "markdown",
   "metadata": {
    "id": "YKfrecQvmvOw"
   },
   "source": [
    "✍🏼 **Problem 5**: In a markdown cell below, write two sentences that use the term 'data' as:\n",
    "1. a plural noun,\n",
    "2. a mass noun."
   ]
  },
  {
   "cell_type": "code",
   "execution_count": null,
   "metadata": {},
   "outputs": [],
   "source": []
  },
  {
   "cell_type": "markdown",
   "metadata": {
    "id": "pN51mh7PpvCp"
   },
   "source": [
    "✍🏼 **Problem 6**: Describe in your own words, in a new markdown cell, what a tuple, a list and an array are in Python. Why do we need all three of these? How are they similar? How are they different? What are the use cases for each?"
   ]
  },
  {
   "cell_type": "markdown",
   "metadata": {},
   "source": [
    "In Python, tuples, lists, and arrays are data structures that hold the data in memory of the system during runtime.\n",
    "\n",
    "1. **Tuple**:\n",
    " * ordered \n",
    " * immutable (unchangeable) collection of elements \n",
    " * enclosed within parentheses `()`. \n",
    " * used when you want to store a collection of items that should not be modified after creation.\n",
    " \n",
    "They are often used for situations where the data should remain constant, such as representing coordinates, days of the week, or pairs of values (like latitude and longitude). It can contain elements of different data type.\n",
    "\n",
    "example assiging a tuple\n",
    "\n",
    "`a=(1, 2, 3,\"hello\",1.0)`\n",
    "` \n",
    "\n",
    "\n",
    "2. **List**:\n",
    "* ordered\n",
    "* mutable collection of elements \n",
    "* enclosed within square brackets `[]`. \n",
    "\n",
    "example assiging a list\n",
    "\n",
    "`a=[1, 2, 3,\"bye\",-10,0.22]`\n",
    "\n",
    "Lists are used when you need a collection that can be modified or extended with new elements. They are versatile and commonly used for tasks like storing and manipulating data, creating dynamic collections, and implementing stacks and queues. It can contain elements of different data type.\n",
    "\n",
    "3. **Array**:\n",
    "* represented using the `array` module\n",
    "* more commonly, using external libraries like NumPy or array-oriented data structures like `ndarray`.\n",
    "* similar to lists\n",
    "* more efficient for numerical computations and working with large datasets. \n",
    "* used in scientific computing, data analysis, and other applications where fast element-wise operations are required.\n",
    "* They typically store single data type.\n",
    "\n",
    "example of creating an array\n",
    "\n",
    "`a = np.array([1,2,3,\"hello\",0.34])`\n",
    "  \n",
    "  \n",
    "**Similarities**:\n",
    "All three (tuple, list, and array) are collections that can hold multiple elements.\n",
    "They are indexed and can be iterated over using loops.\n",
    "They support membership testing (checking if an element is in the collection).\n",
    "They have inbuilt functions to operate on them\n",
    "\n",
    "\n",
    "**Differences**:\n",
    "- **Mutability**:\n",
    "* Tuples are immutable, meaning their elements cannot be changed after creation. \n",
    "* Lists are mutable, allowing you to modify, add, or remove elements.\n",
    "* Arrays can be mutable or immutable, depending on the library used. NumPy arrays are typically mutable.\n",
    "\n",
    "- **Performance**:\n",
    "Lists and arrays have similar performance characteristics for general-purpose tasks, but arrays (especially NumPy arrays) are optimized for numerical operations and can be significantly faster than lists for certain operations.\n"
   ]
  },
  {
   "cell_type": "markdown",
   "metadata": {
    "id": "IOE70dE5qBZn"
   },
   "source": [
    "✍🏼 **Problem 7**: In a code cell, write code that creates a tuple of values. Print the contents. Then convert that tuple to a list, and print the list. Finally, convert the list to an array and print that. Give two cases where this procedure works and does not work."
   ]
  },
  {
   "cell_type": "code",
   "execution_count": 29,
   "metadata": {},
   "outputs": [
    {
     "name": "stdout",
     "output_type": "stream",
     "text": [
      "Tuple: (1, 2, 3, 4, 5, 'hi', -1)  Object of  <class 'tuple'>\n",
      "\n",
      "List: [1, 2, 3, 4, 5, 'hi', -1, -0.022]  Object of  <class 'list'>\n",
      "\n",
      "NumPy Array: ['1' '2' '3' '4' '5' 'hi' '-1' '-0.022']  Object of  <class 'numpy.ndarray'>\n"
     ]
    }
   ],
   "source": [
    "import numpy as np  # Importing the NumPy library\n",
    "\n",
    "# Cases it works\n",
    "\n",
    "# Creating a tuple\n",
    "my_tuple = (1, 2, 3, 4, 5,\"hi\",-1)\n",
    "\n",
    "# Printing the contents of the tuple\n",
    "print(\"Tuple:\", my_tuple, \" Object of \",(type(my_tuple)))\n",
    "print()\n",
    "# Converting the tuple to a list\n",
    "my_list = list(my_tuple)\n",
    "\n",
    "# Add elements to list\n",
    "my_list.append(-.022)\n",
    "\n",
    "# Printing the list\n",
    "print(\"List:\", my_list ,\" Object of \",(type(my_list)))\n",
    "print()\n",
    "# Converting the list to a NumPy array\n",
    "my_array = np.array(my_list)\n",
    "\n",
    "# Printing the NumPy array\n",
    "print(\"NumPy Array:\", my_array ,\" Object of \",(type(my_array)))\n"
   ]
  },
  {
   "cell_type": "code",
   "execution_count": 23,
   "metadata": {},
   "outputs": [
    {
     "name": "stdout",
     "output_type": "stream",
     "text": [
      "Tuple: ([1, 2], [3, 4], ['hello'], [-6, -6, -6, -6])\n",
      "\n",
      "List: [[1, 2], [3, 4], ['hello'], [-6, -6, -6, -6]]\n",
      "\n",
      "Error: setting an array element with a sequence. The requested array has an inhomogeneous shape after 1 dimensions. The detected shape was (4,) + inhomogeneous part.\n",
      "\n",
      "NumPy Array: [['1' '2']\n",
      " ['3' 'hello']] <class 'numpy.ndarray'> <class 'numpy.str_'>\n",
      "\n"
     ]
    }
   ],
   "source": [
    "import numpy as np\n",
    "\n",
    "# Creating a tuple with nested lists\n",
    "nested_tuple = ([1, 2], [3, 4], [\"hello\"],[-6,-6,-6,-6])\n",
    "\n",
    "# Printing the contents of the tuple\n",
    "print(\"Tuple:\", nested_tuple)\n",
    "print()\n",
    "# Converting the tuple to a list\n",
    "nested_list = list(nested_tuple)\n",
    "\n",
    "# Printing the list\n",
    "print(\"List:\", nested_list)\n",
    "print()\n",
    "# Converting the list to a NumPy array (will raise an error)\n",
    "try:\n",
    "    nested_array = np.array(nested_list)\n",
    "    print(\"NumPy Array:\", nested_array)\n",
    "except Exception as e:\n",
    "    print(\"Error:\", e)\n",
    "print()\n",
    "\n",
    "\n",
    "nested_list_that_works = ([1, 2], [3,\"hello\"])\n",
    "\n",
    "# Converting the list to a NumPy array (will not raise an error)\n",
    "try:\n",
    "    nested_array = np.array(nested_list_that_works)\n",
    "    print(\"NumPy Array:\", nested_array,type(nested_array),type(nested_array[0][0]))\n",
    "except Exception as e:\n",
    "    print(\"Error:\", e)\n",
    "    \n",
    "print()"
   ]
  },
  {
   "cell_type": "markdown",
   "metadata": {
    "id": "cnIUMHApyB8p"
   },
   "source": [
    "✍🏼 **Problem 8**: A classic dataset you should be aware of is the \"mpg\" dataset, which stands for \"miles per gallon\". In a code cell below, input the mpg dataset, show a portion of the data, print statistics for each column and make a Seaborn pairplot using \"origin\" as the hue."
   ]
  },
  {
   "cell_type": "code",
   "execution_count": 30,
   "metadata": {},
   "outputs": [],
   "source": [
    "import seaborn as sns\n",
    "import matplotlib.pyplot as plt\n",
    "\n",
    "mpg = sns.load_dataset(\"mpg\")\n"
   ]
  },
  {
   "cell_type": "code",
   "execution_count": 31,
   "metadata": {},
   "outputs": [
    {
     "name": "stdout",
     "output_type": "stream",
     "text": [
      "    mpg  cylinders  displacement  horsepower  weight  acceleration  \\\n",
      "0  18.0          8         307.0       130.0    3504          12.0   \n",
      "1  15.0          8         350.0       165.0    3693          11.5   \n",
      "2  18.0          8         318.0       150.0    3436          11.0   \n",
      "3  16.0          8         304.0       150.0    3433          12.0   \n",
      "4  17.0          8         302.0       140.0    3449          10.5   \n",
      "\n",
      "   model_year origin                       name  \n",
      "0          70    usa  chevrolet chevelle malibu  \n",
      "1          70    usa          buick skylark 320  \n",
      "2          70    usa         plymouth satellite  \n",
      "3          70    usa              amc rebel sst  \n",
      "4          70    usa                ford torino  \n"
     ]
    }
   ],
   "source": [
    "\n",
    "print(mpg.head())\n"
   ]
  },
  {
   "cell_type": "code",
   "execution_count": null,
   "metadata": {},
   "outputs": [],
   "source": [
    "\n",
    "print(mpg.describe())\n",
    "\n",
    "sns.set(style=\"ticks\")\n",
    "sns.pairplot(mpg, hue=\"origin\")\n",
    "\n",
    "plt.show()"
   ]
  },
  {
   "cell_type": "markdown",
   "metadata": {
    "id": "JRmDPE7M5Q0Y"
   },
   "source": [
    "✍🏼 **Problem 9**: Open a markdown cell below and discuss what you learned from the mpg dataset. Vary the pairplot to explore the data in different ways. Do you learn anything from the basic IDA process? Does the EDA process provide additional information? At the end of your general discussion, be sure to include:\n",
    "* What do you get from the data? That is, what did you learn that you did not already know?\n",
    "* Even if the data itself is not that interesting in itself, what uses might this dataset have as practice for doing data science?"
   ]
  },
  {
   "cell_type": "code",
   "execution_count": null,
   "metadata": {},
   "outputs": [],
   "source": []
  },
  {
   "cell_type": "markdown",
   "metadata": {
    "id": "QkpvCph7zawJ"
   },
   "source": [
    "✍🏼 **Problem 10**: Perhaps the most popular dataset of all time is the \"iris\" dataset. This is a dataset you should know in great detail, as it appears everywhere. Repeat the previous problem, but now for the \"iris\" dataset."
   ]
  },
  {
   "cell_type": "code",
   "execution_count": null,
   "metadata": {},
   "outputs": [],
   "source": []
  },
  {
   "cell_type": "markdown",
   "metadata": {
    "id": "iwRqAdioPRc_"
   },
   "source": [
    "✍🏼 **Problem 11**: This problem is the most difficult: be sure to give yourself plenty of time to work on it.\n",
    "\n",
    "If you get stuck, put your questions in the general channel on Slack so that other students can help and learn from you.\n",
    "\n",
    "There are two goals of this problem:\n",
    "1. develop your ability to manage new Python libraries on your computer,\n",
    "2. begin the first steps of building a DS-based web app for your midterm project.\n",
    "\n",
    "The reason this will be challenging is that:\n",
    "* you have some choices to make that will be unique to you,\n",
    "* your computer, its operating system and your library distributions are not necessarily like other students'.\n",
    "\n",
    "Here are the steps  to follow:\n",
    "1. If you don't have one already, put a text editor on your computer. There are many to choose from: [Sublime](https://www.sublimetext.com/), [VSCode](https://code.visualstudio.com/), and so on. There are many times when using a Jupyter notebook, as amazing as they are, won't work. If you haven't used any of these editors, I recommend getting a few so that you can compare them. The choice is often very personal, which is why I am giving you the opportunity to explore and choose the best one for you.\n",
    "2. Be sure that you can work at the command line. How this works differs greatly from computer to computer. For example, on a Mac you always use the [Terminal](https://en.wikipedia.org/wiki/Terminal_(macOS)). As with the editors, there are many choices, [like this](https://iterm2.com/).  If you are a windows user, you definitely want to [read this](https://www.makeuseof.com/tag/a-beginners-guide-to-the-windows-command-line/). Together, the editor and the command line will allow you to execute `.py` files, which can be really useful if you are using another computer (such as a cluster located somewhere else, such as MSU's HPCC facility).\n",
    "3. Once those two steps are done, open the editor you chose and put this code in it, giving it any name you want, but ending with `.py`:\n",
    "```\n",
    "import streamlit as st\n",
    "import seaborn as sns\n",
    "import pandas as pd\n",
    "from sklearn.datasets import load_wine\n",
    "import altair as alt\n",
    "wine_data = load_wine()\n",
    "labels = wine_data.feature_names\n",
    "targets = wine_data.target\n",
    "print(labels)\n",
    "df_form = pd.DataFrame(wine_data.data, columns = labels)\n",
    "df_form['targets'] = targets\n",
    "st.write(\"\"\"\n",
    "# Italian Wine Dataset\n",
    "How are malic acid and alcohol correlated in Italian wines?\n",
    "\"\"\")\n",
    "alt_handle = alt.Chart(df_form).mark_circle(size=60).encode(x='alcohol', y='malic_acid',\n",
    "\tcolor='hue', tooltip=['ash', 'magnesium',\n",
    "\t'proanthocyanins']).interactive()\n",
    "st.altair_chart(alt_handle)\n",
    "```\n",
    "Note that you will likely have to install some libraries on your computer.\n",
    "4. At the command line, run your file using `streamlit run name.py`, where `name` is whatever name you chose for your file in your editor. An interactive web app should appear in your browser. Don't worry about the details at this point, which we will cover later in the course: the goal for this HW is just to **get your computer setup properly** for deployable interactive DS apps.\n",
    "5. In a markdown cell, put the answers to these questions:\n",
    "* which editor(s) did you choose, and why?\n",
    "* what did you decide to use for your command line? (e.g., are you on OSX and using the built-in `Terminal`?)\n",
    "* did you have any problems installing the libraries, such as `streamlit` and `altair`?\n",
    "* yes or no, did you get the interactive app working? if not, give details of your situation (i.e., your computer, what you tried, what you saw), so that we can fix the problems for next time.\n",
    "\n",
    "Again, if you have issues, post your questions. Everyone has a different background in setting up their computer and every computer is different.\n",
    "\n",
    "Once you have it working: congrats on your first, tiny data science app!\n",
    "\n",
    "\n",
    "\n"
   ]
  },
  {
   "cell_type": "code",
   "execution_count": null,
   "metadata": {},
   "outputs": [],
   "source": []
  }
 ],
 "metadata": {
  "colab": {
   "provenance": []
  },
  "kernelspec": {
   "display_name": "Python 3 (ipykernel)",
   "language": "python",
   "name": "python3"
  },
  "language_info": {
   "codemirror_mode": {
    "name": "ipython",
    "version": 3
   },
   "file_extension": ".py",
   "mimetype": "text/x-python",
   "name": "python",
   "nbconvert_exporter": "python",
   "pygments_lexer": "ipython3",
   "version": "3.11.4"
  }
 },
 "nbformat": 4,
 "nbformat_minor": 1
}
