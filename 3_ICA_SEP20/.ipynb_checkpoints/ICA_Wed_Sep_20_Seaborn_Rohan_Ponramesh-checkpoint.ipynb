{
 "cells": [
  {
   "cell_type": "markdown",
   "metadata": {
    "id": "-S05W8yWHTrx"
   },
   "source": [
    "name: **Rohan Ponramesh**\n",
    "\n",
    "\n",
    "group members:\n",
    "* Abhilasha Jagtap\n",
    "* Sarah Bradford\n",
    "* Sardar Nafis Bin Ali \n",
    "\n",
    "\n",
    "Feel free to arrange the tables so that your group can work effectively together. Please return them to their original configuration before you leave.\n",
    "\n",
    "Read this notebook completely before you get started. There are essentially two parts: Seaborn visualization and getting those visualizations into Streamlit. Be strategic:\n",
    "* spend 35 minutes on each part,\n",
    "* have half your group get started on each part and then bring them together."
   ]
  },
  {
   "cell_type": "markdown",
   "metadata": {
    "id": "Ma8XBaGHdvgf"
   },
   "source": [
    "____\n",
    "## Seaborn ICA\n",
    "____\n",
    "\n",
    "The main goal for this ICA is to get data, perform some simple EDA and design the layout for a web app. This is the process you will be thinking about for your first project. Think of this as practice for your project, as well as practicing with Seaborn.\n",
    "\n",
    "To make it so that you can discuss with your classmates, however, we will all use the same dataset for today.\n",
    "\n",
    "Suppose you decide to do a project in the medical arena, and you learn of the Wisconsin Breast Cancer Diagnostic dataset.\n",
    "\n",
    "👉🏻 (5) Your first task: find the WI cancer dataset and download it. There are many places on the internet where you can find it, and it might be in slightly different formats depending on where you get it.\n",
    "\n",
    "👉🏻 (5) Read the dataset into a dataframe, using something like [.read_csv](https://pandas.pydata.org/docs/reference/api/pandas.read_csv.html). Note that you may need to use more than one file to get the column names. This is the messy part of data science. You might spend some time finding a clean CSV that already has the column names (hint: kaggle), or you need to add the information yourself.\n",
    "\n",
    "👉🏻 (8) One you have read the data in and built a dataframe with good column names, perform some basic IDA and EDA. Are there NaNs? What are in the columns and what looks useful? You might use some of the basic plotting capabilities in Pandas, or even try using `Seaborn`.\n",
    "\n",
    "👉🏻 (15) Design 3-5 \"interesting\" `Seaborn` plots. Talk through this with your group. Here, \"interesting\" means that there is an interesting **story/narrative** to be told. Think through what good choices would be: are there interesting distributions? are there interesting categories, and distributions within categories? Feel free to make as many practice plots as you need, which you use in Streamlit. Design these plots into a web app. In a markdown cell, describe your design.\n",
    "\n",
    "Use one Seaborn plot from each type ([distribution](https://seaborn.pydata.org/tutorial/distributions.html), [categorical](https://seaborn.pydata.org/tutorial/categorical.html) and [relational](https://seaborn.pydata.org/tutorial/relational.html)). If it makes sense, use the regression options.\n"
   ]
  },
  {
   "cell_type": "code",
   "execution_count": 1,
   "metadata": {},
   "outputs": [],
   "source": [
    "import numpy as np\n",
    "import pandas as ps"
   ]
  },
  {
   "cell_type": "code",
   "execution_count": null,
   "metadata": {},
   "outputs": [],
   "source": [
    "df=pd.read_csv(..\\)"
   ]
  },
  {
   "cell_type": "markdown",
   "metadata": {
    "id": "fvrE7AqwBEFD"
   },
   "source": [
    "____\n",
    "### Build the WebApp\n",
    "____\n",
    "\n",
    "👉🏻 Build a web app using `streamlit`. This web app will be different from your previous web apps in three ways:\n",
    "1. you use the WI Cancer dataset, which needs to be read in from a file (not coming in through a library),\n",
    "2. your plots are all Seaborn (not Altair or Plotly or Matplotlib),\n",
    "3. you will ask your user to [input something](https://docs.streamlit.io/library/api-reference/widgets) that impacts at least one of the plots.\n",
    "\n",
    "\n",
    "A simple idea for step 3 is to ask the user to input what column to plot, using [this widget](https://docs.streamlit.io/library/api-reference/widgets/st.selectbox). Or, you can use two widgets to ask for what to put on $y$ and $x$. It's up to you: when you do your project, you will have to make these decisions on your own, as each student will have a unique design.\n",
    "\n",
    "Before you leave, demonstrate your web app, using `streamlit run your_file.py` to one of the instructors. Include  `your_file.py` file in D2L, as well as this notebook.\n"
   ]
  }
 ],
 "metadata": {
  "colab": {
   "provenance": []
  },
  "kernelspec": {
   "display_name": "Python 3 (ipykernel)",
   "language": "python",
   "name": "python3"
  },
  "language_info": {
   "codemirror_mode": {
    "name": "ipython",
    "version": 3
   },
   "file_extension": ".py",
   "mimetype": "text/x-python",
   "name": "python",
   "nbconvert_exporter": "python",
   "pygments_lexer": "ipython3",
   "version": "3.11.4"
  }
 },
 "nbformat": 4,
 "nbformat_minor": 1
}
