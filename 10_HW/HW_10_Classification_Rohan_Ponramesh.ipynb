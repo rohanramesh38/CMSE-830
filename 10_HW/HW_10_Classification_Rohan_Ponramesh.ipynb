{
 "cells": [
  {
   "cell_type": "markdown",
   "metadata": {},
   "source": [
    "![class_reg](https://cdn.analyticsvidhya.com/wp-content/uploads/2020/04/regression-vs-classification-in-machine-learning.png)"
   ]
  },
  {
   "cell_type": "markdown",
   "metadata": {
    "id": "5b-pJCzwF9kq"
   },
   "source": [
    "___\n",
    "#### <font color=#FF00BB> due midnight Saturday </font>  Rohan Ponramesh\n",
    "___\n",
    "# <font color=#00BBFF> HW: Introduction to Classification and Project</font>\n",
    "\n",
    "## <font color=green> Question 1: Classification (40 points) </font>\n",
    "\n",
    "The goal of this HW is for you to explore classification in more depth, in part because you _might_ want to use it in your final project but also because it is a very important tool for finding patterns in data. Many of the datasets you are using are great for classification; for example, the classic iris and penguin datasets. \n",
    "\n",
    "This HW has two parts: classification and your final project. \n",
    "\n",
    "This HW illustrates an extremely important aspect of classification. What you will see is that, despite some naive similarities, classification is quite different from regression in practice.\n",
    "\n",
    "Once again, you'll use the iris dataset since you now have a lot of intuition for it. \n",
    "\n",
    "Because you need to finalize your project, I want the first part of this HW to be short. What I have done is written the entire code for you. All you need to do is read the notebook, answer some questions and comment the code. \n",
    "\n",
    "One comment before we dive into the code. The iris dataset is known to be \"easy\". If we use these powerful ML models on the complete dataset, we often get a perfect prediction. For this reason, I grab only the first two columns in line 11. \n",
    "\n",
    "Change the choice of two columns to be 3 or 4 columns and compare the scores you get; this is a very nice ML lesson. \n",
    "\n",
    "In your Jupyter environment, turn on line numbers.\n",
    "\n",
    "\n",
    "\n",
    "\n",
    "\n",
    "\n",
    "\n",
    "\n",
    "\n",
    "\n"
   ]
  },
  {
   "cell_type": "markdown",
   "metadata": {
    "id": "jXFQC3Fg-Vs8"
   },
   "source": [
    "____\n",
    "\n",
    "## Step 1: Get Data"
   ]
  },
  {
   "cell_type": "code",
   "execution_count": 169,
   "metadata": {
    "id": "4B2yalrw-eQx",
    "tags": []
   },
   "outputs": [],
   "source": [
    "# comment every line, unless it is very obvious (e.g., NumPy)\n",
    "# in particular, what do the sklearn libraries do? (use the online documentation)\n",
    "\n",
    "import numpy as np\n",
    "import matplotlib.pyplot as plt\n",
    "\n",
    "from sklearn import datasets # Importing the datasets module from sklearn library\n",
    "from sklearn.model_selection import train_test_split # Importing train_test_split function from \n",
    "from sklearn.preprocessing import StandardScaler # Importing StandardScaler class from sklearn.preprocessing module\n",
    "\n",
    "iris_data = datasets.load_iris() # Loading the Iris dataset from sklearn datasets\n",
    "X = iris_data.data[:, :2] # Extracting the first two columns (features) of the Iris datase\n",
    "y = iris_data.target # Extracting the target variable from the Iris datase, type of Iris\n"
   ]
  },
  {
   "cell_type": "markdown",
   "metadata": {},
   "source": [
    "The `sklearn` libraries used here provide machine learning functionalities:\n",
    "\n",
    "- `datasets`: Contains various sample datasets, including the famous Iris dataset (`datasets.load_iris()` loads the Iris dataset).\n",
    "- `train_test_split`: A function used to split datasets into training and testing subsets.\n",
    "\n",
    "- `StandardScaler`: A class used for standardization, scaling features by removing the mean and scaling to unit variance.\n",
    "\n",
    "The code snippet provided loads the Iris dataset, extracts the first two columns as features (`X`), and the target variable (`y`)."
   ]
  },
  {
   "cell_type": "markdown",
   "metadata": {
    "id": "QyBiLTsi_EgU"
   },
   "source": [
    "____\n",
    "## Step 2: Preprocess Data\n",
    "\n",
    "What is being done below contains a small subtlety. In line 8, a scaler is instantiated (created for use), but it isn't used until line 9. In line 9, the scaler only learns from the data how to do the scaling - *it doesn't actually do the scaling!* \n",
    "\n",
    "Why? This is so that you can use that information to scale anything you want using the rules it learned. For example, we learn the scaling from the training data (line 9), but we scale **both** the training and test in lines 11 and 13. \n",
    "\n",
    "This is a very common pattern in `sklearn`: instantiate an object, then use it on the data separately, perhaps multiple times. \n",
    "\n",
    "\n",
    "Why we would do this? The reason is that in the real world we would only have the training data - we cannot learn how to scale the data from data we have never seen. But, once we learn a good scaling and train our ML models using that rule, we should apply it to future data, which could be our test data or real world data once the ML is deployed. "
   ]
  },
  {
   "cell_type": "code",
   "execution_count": 170,
   "metadata": {
    "id": "p0rUyw6z_MZJ",
    "tags": []
   },
   "outputs": [],
   "source": [
    "# comment every line in detail\n",
    "\n",
    "start_state = 42  # Setting a seed value for the random number generator to ensure reproducibility\n",
    "test_fraction = 0.2  # Defining the fraction of data to be used as test data (20% in this case)\n",
    "\n",
    "# Splitting the data into training and testing sets using train_test_split function\n",
    "# X and y are the feature and target datasets respectively\n",
    "# test_size=test_fraction specifies the fraction of the data to be used for testing\n",
    "# random_state=start_state sets the random seed for reproducibility\n",
    "X_train, X_test, y_train, y_test = train_test_split(X, y, test_size=test_fraction, random_state=start_state)\n",
    "\n",
    "my_scaler = StandardScaler()  # Creating an instance of StandardScaler to scale the features\n",
    "\n",
    "my_scaler.fit(X_train)  # Fitting the scaler using the training data (X_train)\n",
    "\n",
    "\n",
    "X_train_scaled = my_scaler.transform(X_train)  # Transforming the training features using the fitted scaler\n",
    "\n",
    "X_test_scaled = my_scaler.transform(X_test)  # Transforming the test features using the same fitted scaler\n"
   ]
  },
  {
   "cell_type": "markdown",
   "metadata": {},
   "source": [
    "The target variable (y_train) is not in fit because StandardScaler only operates on the feature data.\n",
    "\n",
    "The  method is used to compute the mean and standard deviation necessary for feature scaling. In the case of `StandardScaler`, it only operates on the feature data (`X_train`) to calculate the mean and standard deviation of each feature independently. The target variable (`y_train`) is not used because feature scaling/scaling functions typically operate only on the feature data and our `y_train` having categorical target values for different Iris .\n",
    "\n",
    " `StandardScaler` scales the values so that they have a mean of 0 and a standard deviation of 1. It follows the formula:\n",
    "   \n",
    "   $$ z = \\frac{x - \\text{mean}(x)}{\\text{std}(x)} $$\n",
    "   \n",
    "   where $ x $ is the original value, ${mean}(x)$ is the mean of the feature, ${std}(x)$ is the standard deviation of the feature, and \\( z \\) is the standardized value.\n"
   ]
  },
  {
   "cell_type": "markdown",
   "metadata": {},
   "source": []
  },
  {
   "cell_type": "code",
   "execution_count": 171,
   "metadata": {
    "colab": {
     "base_uri": "https://localhost:8080/",
     "height": 392
    },
    "executionInfo": {
     "elapsed": 349,
     "status": "ok",
     "timestamp": 1668983517083,
     "user": {
      "displayName": "Michael Murillo",
      "userId": "04445914509865448303"
     },
     "user_tz": 300
    },
    "id": "0Zpf7O3LBOgM",
    "outputId": "44355665-a43b-43a4-ccd7-b33fbc6b348b",
    "tags": []
   },
   "outputs": [
    {
     "data": {
      "text/plain": [
       "<matplotlib.legend.Legend at 0x15b950a10>"
      ]
     },
     "execution_count": 171,
     "metadata": {},
     "output_type": "execute_result"
    },
    {
     "data": {
      "image/png": "[encoded data removed]",
      "text/plain": [
       "<Figure size 600x600 with 1 Axes>"
      ]
     },
     "metadata": {},
     "output_type": "display_data"
    }
   ],
   "source": [
    "# comment non-obvious lines\n",
    "\n",
    "plt.figure(figsize=(6,6)) \n",
    "\n",
    "# Creating a scatter plot of the original training data points\n",
    "# X_train[:,0],X_train[:,1] represents the feature for x-axis and feature for y-axis respectively\n",
    "plt.scatter(X_train[:,0], X_train[:,1], label='original')\n",
    "\n",
    "# Creating a scatter plot of the scaled training data points from my_scaler used in above sell to transform the original data\n",
    "# X_train_scaled[:,0], X_train_scaled[:,1] represents the feature for x-axis and y-axis respectively\n",
    "plt.scatter(X_train_scaled[:,0], X_train_scaled[:,1], label='scaled')\n",
    "\n",
    "plt.grid(alpha=0.15)  # Adding a grid to the plot\n",
    "\n",
    "plt.legend()  # Displaying a legend showing the labels 'original' and 'scaled' \n"
   ]
  },
  {
   "cell_type": "markdown",
   "metadata": {},
   "source": [
    "We can observe that the patten scatter of original and scaled is the same, and the scaled data lies with mean near the origin"
   ]
  },
  {
   "cell_type": "markdown",
   "metadata": {
    "id": "kbBEbAEeC-vl"
   },
   "source": [
    "____\n",
    "## Step 3: Learn!\n",
    "\n",
    "I don't usually like putting import statements down here, but I wanted to group them away from the others above. \n",
    "\n",
    "What I really want you to see is that the estimator could be anything - here, I use two and most of the code is totally unchanged! Add many more classifiers  - run them all!\n",
    "\n",
    "Note that the ML libraries are very short and follow the same pattern: this allows you to very quickly and easily compare many classification libraries. It is a good habit to always compare several estimators, since you don't usually know which one will perform best. "
   ]
  },
  {
   "cell_type": "code",
   "execution_count": 172,
   "metadata": {
    "id": "77M72dWCCDo5",
    "tags": []
   },
   "outputs": [
    {
     "data": {
      "text/plain": [
       "0.6333333333333333"
      ]
     },
     "execution_count": 172,
     "metadata": {},
     "output_type": "execute_result"
    }
   ],
   "source": [
    "# switch between the classifiers and rerun the code\n",
    "\n",
    "from sklearn.tree import DecisionTreeClassifier\n",
    "my_classifier = DecisionTreeClassifier(criterion='gini', random_state=0)\n",
    "\n",
    "my_model = my_classifier.fit(X_train_scaled, y_train)\n",
    "\n",
    "my_model.score(X_test_scaled, y_test)\n",
    "\n",
    "# score = 0.6333333333333333"
   ]
  },
  {
   "cell_type": "code",
   "execution_count": 173,
   "metadata": {},
   "outputs": [
    {
     "data": {
      "text/plain": [
       "0.7"
      ]
     },
     "execution_count": 173,
     "metadata": {},
     "output_type": "execute_result"
    }
   ],
   "source": [
    "from sklearn import neighbors\n",
    "n_neighbors = 2\n",
    "my_classifier = neighbors.KNeighborsClassifier(n_neighbors)\n",
    "my_model = my_classifier.fit(X_train_scaled, y_train)\n",
    "\n",
    "my_model.score(X_test_scaled, y_test)\n",
    " \n",
    "#score= 0.7"
   ]
  },
  {
   "cell_type": "code",
   "execution_count": 189,
   "metadata": {},
   "outputs": [
    {
     "data": {
      "text/plain": [
       "0.7666666666666667"
      ]
     },
     "execution_count": 189,
     "metadata": {},
     "output_type": "execute_result"
    }
   ],
   "source": [
    "from sklearn.linear_model import SGDClassifier\n",
    "\n",
    "my_classifier= SGDClassifier(loss='log_loss', alpha=0.001, max_iter=10000, random_state=start_state)\n",
    "my_model = my_classifier.fit(X_train_scaled, y_train)\n",
    "\n",
    "my_model.score(X_test_scaled, y_test)\n",
    "\n",
    "#score= 0.7"
   ]
  },
  {
   "cell_type": "code",
   "execution_count": 175,
   "metadata": {},
   "outputs": [
    {
     "data": {
      "text/plain": [
       "0.7"
      ]
     },
     "execution_count": 175,
     "metadata": {},
     "output_type": "execute_result"
    }
   ],
   "source": [
    "from sklearn.ensemble import AdaBoostClassifier\n",
    "\n",
    "n_estimator = 100\n",
    "my_classifier = AdaBoostClassifier(n_estimators=n_estimator,learning_rate=1,random_state=start_state)\n",
    "my_model = my_classifier.fit(X_train_scaled, y_train)\n",
    "\n",
    "my_model.score(X_test_scaled, y_test)\n",
    "\n",
    "#score= 0.7"
   ]
  },
  {
   "cell_type": "code",
   "execution_count": 190,
   "metadata": {},
   "outputs": [],
   "source": [
    "from sklearn.ensemble import RandomForestClassifier\n",
    "\n",
    "n_estimator = 100\n",
    "my_classifier = RandomForestClassifier(n_estimators=n_estimator,random_state=start_state)\n",
    "my_model = my_classifier.fit(X_train_scaled, y_train)\n",
    "\n",
    "my_model.score(X_test_scaled, y_test)\n",
    "\n",
    "my_classifier_final=my_classifier\n",
    "X_test_scaled_final=X_test_scaled\n",
    "#score= 0.7666666666666667"
   ]
  },
  {
   "cell_type": "markdown",
   "metadata": {},
   "source": [
    "\n",
    "1. **DecisionTreeClassifier (Criterion: Gini):** Score = 0.6333\n",
    "   - The `DecisionTreeClassifier` with the Gini criterion resulted in a score of approximately 0.6333 on the test set. This classifier tends to create a single decision tree that might not generalize well to new data.\n",
    "\n",
    "2. **KNeighborsClassifier:** Score = 0.7\n",
    "   - The `KNeighborsClassifier` with `n_neighbors=2` achieved a score of approximately 0.7. It relies on the nearest neighbors' voting to make predictions. This score might indicate better performance than the Decision Tree but could be sensitive to the number of neighbors chosen.\n",
    "\n",
    "3. **SGDClassifier (Loss: log):** Score = 0.7667\n",
    "   - The `SGDClassifier` with `loss='log_loss'` and other parameters obtained a score of approximately 0.76667. This classifier uses stochastic gradient descent and the specified loss function (sigmoid). It might perform well on linear problems but the chosen loss function can significantly impact the results.\n",
    "\n",
    "4. **AdaBoostClassifier:** Score = 0.7\n",
    "   - The `AdaBoostClassifier` with `n_estimators=100` and `learning_rate=1` yielded a score of approximately 0.7. AdaBoost combines multiple weak classifiers to create a strong ensemble, but in this case, it might not have significantly improved over individual classifiers.\n",
    "\n",
    "5. **RandomForestClassifier:** Score = 0.7667\n",
    "   - The `RandomForestClassifier` with `n_estimators=100` achieved the highest score of approximately 0.7667. Random Forest is an ensemble method using multiple decision trees, and it often performs well due to its ability to reduce overfitting and variance.\n",
    "\n",
    "### Observations:\n",
    "- The RandomForestClassifier and  SGDClassifier outperformed other classifiers, suggesting its better performance on the classification in the Iris dataset.\n"
   ]
  },
  {
   "cell_type": "markdown",
   "metadata": {
    "id": "1UJAMWPmEGwq"
   },
   "source": [
    "____\n",
    "\n",
    "### Predictions\n",
    "\n",
    "With everything trained, you can deploy the model and make predictions. All you need to do is pass in an $X$ and the model will return a $y$. Let's try this with the test data. Comment the code and add a markdown cell to explain your results. "
   ]
  },
  {
   "cell_type": "code",
   "execution_count": 177,
   "metadata": {
    "id": "Kxmg8Jt2DouD",
    "tags": []
   },
   "outputs": [],
   "source": [
    "y_pred = my_model.predict(X_test_scaled)"
   ]
  },
  {
   "cell_type": "code",
   "execution_count": 178,
   "metadata": {
    "colab": {
     "base_uri": "https://localhost:8080/"
    },
    "executionInfo": {
     "elapsed": 4,
     "status": "ok",
     "timestamp": 1668983521418,
     "user": {
      "displayName": "Michael Murillo",
      "userId": "04445914509865448303"
     },
     "user_tz": 300
    },
    "id": "vHEa6PVBEFW8",
    "outputId": "cf1d47bd-5c00-46ee-b2bf-e98d36034098",
    "tags": []
   },
   "outputs": [
    {
     "data": {
      "text/plain": [
       "array([ 0,  0,  0,  0, -1,  0,  0,  1,  0, -1,  0,  0,  0,  0,  0, -1,  0,\n",
       "        0,  0,  0,  0,  1,  0,  0,  0,  1,  1,  0,  0,  0])"
      ]
     },
     "execution_count": 178,
     "metadata": {},
     "output_type": "execute_result"
    }
   ],
   "source": [
    "y_test - y_pred"
   ]
  },
  {
   "cell_type": "markdown",
   "metadata": {},
   "source": [
    "Describe in detail what this does."
   ]
  },
  {
   "cell_type": "code",
   "execution_count": 179,
   "metadata": {
    "tags": []
   },
   "outputs": [
    {
     "data": {
      "text/plain": [
       "array([0.73333333, 0.76666667, 0.66666667, 0.8       , 0.76666667])"
      ]
     },
     "execution_count": 179,
     "metadata": {},
     "output_type": "execute_result"
    }
   ],
   "source": [
    "from sklearn.model_selection import cross_val_score\n",
    "cross_val_score(my_classifier, X, y, cv=5)"
   ]
  },
  {
   "cell_type": "markdown",
   "metadata": {},
   "source": [
    "cross_val_score is used for evaluating an estimator's performance by employing cross-validation techniques\n",
    "\n",
    "\n",
    "\n",
    "  - `cross_val_score` returns an array containing the evaluation scores (e.g., accuracy, F1 score, etc., depending on the scoring metric used) of the classifier for each fold during cross-validation.\n",
    "  \n",
    "  the given code generates array with 5 elements (in a 5-fold cross-validation scenario), each element representing the performance score of the classifier on a different fold of the data.\n",
    "\n",
    "The purpose of using `cross_val_score` is to get an estimate of the model's performance that is more reliable. By performing cross-validation, it helps in assessing how well the model generalizes to unseen data by training and testing on different subsets of the dataset, reducing the risk of overfitting or underfitting.\n"
   ]
  },
  {
   "cell_type": "markdown",
   "metadata": {
    "id": "Kqp5UbNYHHWp"
   },
   "source": [
    "At this point, you should go back and play with the number of columns and the scaling. If you use 3 columns does the score go up or down? What if you comment out the code that scales the data - does that impact the score? \n",
    "\n",
    "Create a markdown cell to answer these questions in detail. "
   ]
  },
  {
   "cell_type": "code",
   "execution_count": 180,
   "metadata": {},
   "outputs": [],
   "source": [
    "X_newcol = iris_data.data[:, :3] # Extracting the remaining two columns (features) of the Iris dataset col 3 and 4\n",
    "y_newcol = iris_data.target # Extracting the target variable from the Iris datase, type of Iris\n",
    "\n",
    "\n",
    "X_train_n, X_test_n, y_train_n, y_test_n = train_test_split(X_newcol, y_newcol, test_size=test_fraction, random_state=start_state)\n",
    "\n",
    "my_scaler.fit(X_train_n)  # Fitting the scaler using the training data (X_train)\n",
    "\n",
    "\n",
    "X_train_scaled_n = my_scaler.transform(X_train_n)  # Transforming the training features using the fitted scaler\n",
    "\n",
    "X_test_scaled_n = my_scaler.transform(X_test_n)  # Transforming the test features using the same fitted scaler\n",
    "\n"
   ]
  },
  {
   "cell_type": "code",
   "execution_count": null,
   "metadata": {},
   "outputs": [],
   "source": []
  },
  {
   "cell_type": "code",
   "execution_count": 181,
   "metadata": {},
   "outputs": [
    {
     "data": {
      "text/plain": [
       "<matplotlib.legend.Legend at 0x15bb94750>"
      ]
     },
     "execution_count": 181,
     "metadata": {},
     "output_type": "execute_result"
    },
    {
     "data": {
      "image/png": "[encoded data removed]",
      "text/plain": [
       "<Figure size 600x600 with 1 Axes>"
      ]
     },
     "metadata": {},
     "output_type": "display_data"
    }
   ],
   "source": [
    "plt.figure(figsize=(6,6)) \n",
    "\n",
    "\n",
    "plt.scatter(X_train_n[:,0], X_train_n[:,1], label='original')\n",
    "\n",
    "plt.scatter(X_train_scaled_n[:,0], X_train_scaled_n[:,1], label='scaled')\n",
    "\n",
    "plt.grid(alpha=0.15) \n",
    "\n",
    "plt.legend()  "
   ]
  },
  {
   "cell_type": "code",
   "execution_count": 182,
   "metadata": {},
   "outputs": [
    {
     "data": {
      "text/html": [
       "<style>#sk-container-id-7 {color: black;}#sk-container-id-7 pre{padding: 0;}#sk-container-id-7 div.sk-toggleable {background-color: white;}#sk-container-id-7 label.sk-toggleable__label {cursor: pointer;display: block;width: 100%;margin-bottom: 0;padding: 0.3em;box-sizing: border-box;text-align: center;}#sk-container-id-7 label.sk-toggleable__label-arrow:before {content: \"▸\";float: left;margin-right: 0.25em;color: #696969;}#sk-container-id-7 label.sk-toggleable__label-arrow:hover:before {color: black;}#sk-container-id-7 div.sk-estimator:hover label.sk-toggleable__label-arrow:before {color: black;}#sk-container-id-7 div.sk-toggleable__content {max-height: 0;max-width: 0;overflow: hidden;text-align: left;background-color: #f0f8ff;}#sk-container-id-7 div.sk-toggleable__content pre {margin: 0.2em;color: black;border-radius: 0.25em;background-color: #f0f8ff;}#sk-container-id-7 input.sk-toggleable__control:checked~div.sk-toggleable__content {max-height: 200px;max-width: 100%;overflow: auto;}#sk-container-id-7 input.sk-toggleable__control:checked~label.sk-toggleable__label-arrow:before {content: \"▾\";}#sk-container-id-7 div.sk-estimator input.sk-toggleable__control:checked~label.sk-toggleable__label {background-color: #d4ebff;}#sk-container-id-7 div.sk-label input.sk-toggleable__control:checked~label.sk-toggleable__label {background-color: #d4ebff;}#sk-container-id-7 input.sk-hidden--visually {border: 0;clip: rect(1px 1px 1px 1px);clip: rect(1px, 1px, 1px, 1px);height: 1px;margin: -1px;overflow: hidden;padding: 0;position: absolute;width: 1px;}#sk-container-id-7 div.sk-estimator {font-family: monospace;background-color: #f0f8ff;border: 1px dotted black;border-radius: 0.25em;box-sizing: border-box;margin-bottom: 0.5em;}#sk-container-id-7 div.sk-estimator:hover {background-color: #d4ebff;}#sk-container-id-7 div.sk-parallel-item::after {content: \"\";width: 100%;border-bottom: 1px solid gray;flex-grow: 1;}#sk-container-id-7 div.sk-label:hover label.sk-toggleable__label {background-color: #d4ebff;}#sk-container-id-7 div.sk-serial::before {content: \"\";position: absolute;border-left: 1px solid gray;box-sizing: border-box;top: 0;bottom: 0;left: 50%;z-index: 0;}#sk-container-id-7 div.sk-serial {display: flex;flex-direction: column;align-items: center;background-color: white;padding-right: 0.2em;padding-left: 0.2em;position: relative;}#sk-container-id-7 div.sk-item {position: relative;z-index: 1;}#sk-container-id-7 div.sk-parallel {display: flex;align-items: stretch;justify-content: center;background-color: white;position: relative;}#sk-container-id-7 div.sk-item::before, #sk-container-id-7 div.sk-parallel-item::before {content: \"\";position: absolute;border-left: 1px solid gray;box-sizing: border-box;top: 0;bottom: 0;left: 50%;z-index: -1;}#sk-container-id-7 div.sk-parallel-item {display: flex;flex-direction: column;z-index: 1;position: relative;background-color: white;}#sk-container-id-7 div.sk-parallel-item:first-child::after {align-self: flex-end;width: 50%;}#sk-container-id-7 div.sk-parallel-item:last-child::after {align-self: flex-start;width: 50%;}#sk-container-id-7 div.sk-parallel-item:only-child::after {width: 0;}#sk-container-id-7 div.sk-dashed-wrapped {border: 1px dashed gray;margin: 0 0.4em 0.5em 0.4em;box-sizing: border-box;padding-bottom: 0.4em;background-color: white;}#sk-container-id-7 div.sk-label label {font-family: monospace;font-weight: bold;display: inline-block;line-height: 1.2em;}#sk-container-id-7 div.sk-label-container {text-align: center;}#sk-container-id-7 div.sk-container {/* jupyter's `normalize.less` sets `[hidden] { display: none; }` but bootstrap.min.css set `[hidden] { display: none !important; }` so we also need the `!important` here to be able to override the default hidden behavior on the sphinx rendered scikit-learn.org. See: https://github.com/scikit-learn/scikit-learn/issues/21755 */display: inline-block !important;position: relative;}#sk-container-id-7 div.sk-text-repr-fallback {display: none;}</style><div id=\"sk-container-id-7\" class=\"sk-top-container\"><div class=\"sk-text-repr-fallback\"><pre>RandomForestClassifier(random_state=42)</pre><b>In a Jupyter environment, please rerun this cell to show the HTML representation or trust the notebook. <br />On GitHub, the HTML representation is unable to render, please try loading this page with nbviewer.org.</b></div><div class=\"sk-container\" hidden><div class=\"sk-item\"><div class=\"sk-estimator sk-toggleable\"><input class=\"sk-toggleable__control sk-hidden--visually\" id=\"sk-estimator-id-7\" type=\"checkbox\" checked><label for=\"sk-estimator-id-7\" class=\"sk-toggleable__label sk-toggleable__label-arrow\">RandomForestClassifier</label><div class=\"sk-toggleable__content\"><pre>RandomForestClassifier(random_state=42)</pre></div></div></div></div></div>"
      ],
      "text/plain": [
       "RandomForestClassifier(random_state=42)"
      ]
     },
     "execution_count": 182,
     "metadata": {},
     "output_type": "execute_result"
    }
   ],
   "source": [
    "my_classifier"
   ]
  },
  {
   "cell_type": "code",
   "execution_count": 183,
   "metadata": {},
   "outputs": [
    {
     "data": {
      "text/plain": [
       "0.9666666666666667"
      ]
     },
     "execution_count": 183,
     "metadata": {},
     "output_type": "execute_result"
    }
   ],
   "source": [
    "my_model = my_classifier.fit(X_train_scaled_n, y_train_n)\n",
    "\n",
    "my_model.score(X_test_scaled_n, y_test_n)\n"
   ]
  },
  {
   "cell_type": "code",
   "execution_count": 184,
   "metadata": {},
   "outputs": [],
   "source": [
    "y_pred_n = my_model.predict(X_test_scaled_n)"
   ]
  },
  {
   "cell_type": "code",
   "execution_count": 185,
   "metadata": {
    "scrolled": true
   },
   "outputs": [
    {
     "data": {
      "text/plain": [
       "array([ 0,  0,  0,  0, -1,  0,  0,  0,  0,  0,  0,  0,  0,  0,  0,  0,  0,\n",
       "        0,  0,  0,  0,  0,  0,  0,  0,  0,  0,  0,  0,  0])"
      ]
     },
     "execution_count": 185,
     "metadata": {},
     "output_type": "execute_result"
    }
   ],
   "source": [
    "y_test_n - y_pred_n"
   ]
  },
  {
   "cell_type": "code",
   "execution_count": 186,
   "metadata": {},
   "outputs": [
    {
     "data": {
      "text/plain": [
       "0.9666666666666667"
      ]
     },
     "execution_count": 186,
     "metadata": {},
     "output_type": "execute_result"
    }
   ],
   "source": [
    "#non scaled\n",
    "my_model = my_classifier.fit(X_train_n, y_train_n)\n",
    "\n",
    "my_model.score(X_test_n, y_test_n)\n"
   ]
  },
  {
   "cell_type": "markdown",
   "metadata": {},
   "source": [
    "The models prediction accuracy is increased while considering the third feature,  Score is not affetcted when we remove the scaling values for X_train and X_test"
   ]
  },
  {
   "cell_type": "markdown",
   "metadata": {
    "id": "PDxcgg8IH57N"
   },
   "source": [
    "____\n",
    "____\n",
    "## Step 4:  The Interesting Part!!\n",
    "\n",
    "Everything above is pretty straightforward. If you were doing, say, regression, nearly everything would be identical once you swapped regression estimators for the classifiers. \n",
    "\n",
    "Now, I want to introduce you to a very important metric that is _used for classification specifically_. This metric is called the confusion matrix. \n",
    "\n",
    "Let's bring the code in. (Again, I would normally put this at the top, but I want to you see it here...)\n"
   ]
  },
  {
   "cell_type": "code",
   "execution_count": null,
   "metadata": {},
   "outputs": [],
   "source": []
  },
  {
   "cell_type": "code",
   "execution_count": 163,
   "metadata": {
    "id": "6h1uRZUAEWhj",
    "tags": []
   },
   "outputs": [],
   "source": [
    "from sklearn.metrics import confusion_matrix, ConfusionMatrixDisplay"
   ]
  },
  {
   "cell_type": "markdown",
   "metadata": {
    "id": "6DR_CevSImNJ"
   },
   "source": [
    "You might have heard of a confusion matrix before. If not, you have certainly heard of \"false positives\" and \"false negatives\" - we use that terminology in our everyday speech. [Read this to review/learn the basic ideas.](https://en.wikipedia.org/wiki/Confusion_matrix) \n",
    "\n",
    "The [code](https://scikit-learn.org/stable/modules/generated/sklearn.metrics.confusion_matrix.html#sklearn.metrics.confusion_matrix) is simple:"
   ]
  },
  {
   "cell_type": "code",
   "execution_count": 164,
   "metadata": {
    "id": "WSvJAI_5JAVZ",
    "tags": []
   },
   "outputs": [],
   "source": [
    "conf_mat = confusion_matrix(y_test, y_pred)"
   ]
  },
  {
   "cell_type": "code",
   "execution_count": 165,
   "metadata": {
    "colab": {
     "base_uri": "https://localhost:8080/"
    },
    "executionInfo": {
     "elapsed": 4,
     "status": "ok",
     "timestamp": 1668983525796,
     "user": {
      "displayName": "Michael Murillo",
      "userId": "04445914509865448303"
     },
     "user_tz": 300
    },
    "id": "Ps09AnPOJIXp",
    "outputId": "d5c0fef8-0946-42e4-eb6b-01a5a2f90d9a",
    "tags": []
   },
   "outputs": [
    {
     "name": "stdout",
     "output_type": "stream",
     "text": [
      "[[10  0  0]\n",
      " [ 0  6  3]\n",
      " [ 0  4  7]]\n"
     ]
    }
   ],
   "source": [
    "print(conf_mat)"
   ]
  },
  {
   "cell_type": "code",
   "execution_count": 168,
   "metadata": {
    "colab": {
     "base_uri": "https://localhost:8080/",
     "height": 320
    },
    "executionInfo": {
     "elapsed": 316,
     "status": "ok",
     "timestamp": 1668983738132,
     "user": {
      "displayName": "Michael Murillo",
      "userId": "04445914509865448303"
     },
     "user_tz": 300
    },
    "id": "GBvceKbTJdcV",
    "outputId": "46621871-81b4-4bb5-c033-98c81ed2aca9",
    "tags": []
   },
   "outputs": [
    {
     "data": {
      "text/plain": [
       "<sklearn.metrics._plot.confusion_matrix.ConfusionMatrixDisplay at 0x15ba1f250>"
      ]
     },
     "execution_count": 168,
     "metadata": {},
     "output_type": "execute_result"
    },
    {
     "data": {
      "image/png": "[encoded data removed]",
      "text/plain": [
       "<Figure size 640x480 with 2 Axes>"
      ]
     },
     "metadata": {},
     "output_type": "display_data"
    }
   ],
   "source": [
    "ConfusionMatrixDisplay.from_estimator(my_classifier_final, X_test_scaled_final, y_test)"
   ]
  },
  {
   "cell_type": "markdown",
   "metadata": {
    "id": "Dsi5ydwNK893"
   },
   "source": [
    "In a markdown cell, describe what [this displays](https://en.wikipedia.org/wiki/Confusion_matrix). Interpret its meaning in terms of FPs, FNs, etc. Change things (number of columns, estimator) to see how the confusion matrix is impacted. \n",
    "\n",
    "If you do classification for your final project, you want to include a confusion! It tells you how well your classifier is working; and, it tells **how** it fails when it does. "
   ]
  },
  {
   "cell_type": "markdown",
   "metadata": {},
   "source": [
    "The confusion matrix provides a summary of the predicted and actual classifications made by a classifier on a dataset. The matrix layout comprises four different combinations of predicted and actual classes:\n",
    "\n",
    "### Components of Confusion Matrix:\n",
    "1. **True Positive (TP)**: Instances where the model predicted the positive class correctly.\n",
    "2. **True Negative (TN)**: Instances where the model predicted the negative class correctly.\n",
    "3. **False Positive (FP)**: Instances where the model predicted the positive class incorrectly (it's actually negative).\n",
    "4. **False Negative (FN)**: Instances where the model predicted the negative class incorrectly (it's actually positive).\n",
    "\n",
    "### Structure of Confusion Matrix:\n",
    "\n",
    "\n",
    "|       |      |\n",
    "| ------------------- | ------------------- |\n",
    "|  True Negatives     |   False Positives   |\n",
    "| ------------------- | ------------------- |\n",
    "|   False Negatives   |   True Positives    |\n",
    "\n",
    "\n",
    "\n",
    "### Interpretation of Confusion Matrix Components:\n",
    "- **True Positives (TP)**: These are instances correctly identified as belonging to the positive class. For example, correctly identifying diseased patients as having the disease.\n",
    "- **True Negatives (TN)**: Instances correctly identified as not belonging to the positive class. For instance, correctly identifying healthy individuals as not having the disease.\n",
    "- **False Positives (FP)**: Instances incorrectly identified as belonging to the positive class when they actually belong to the negative class. For example, healthy individuals misclassified as having the disease.\n",
    "- **False Negatives (FN)**: Instances incorrectly identified as not belonging to the positive class when they actually belong to the positive class. For instance, diseased patients misclassified as healthy.\n",
    "\n",
    "### Impact of Changes on Confusion Matrix:\n",
    "- **Number of Columns/Classes**: If the number of columns (i.e., number of classes) changes in the confusion matrix, the matrix size will be affected, and the counts in TP, TN, FP, and FN will correspond to the specific classification scenarios based on the new class structure.\n",
    "- **Estimator/Model Changes**: Different models or estimators may produce varying confusion matrices based on their predictive capabilities, which might affect the distribution of TP, TN, FP, and FN values, potentially resulting in different classification performance evaluations.\n",
    "\n",
    "Changing the number of columns (classes) or using different estimators might influence the model's ability to correctly classify instances into different classes, thereby impacting the counts in the confusion matrix and its subsequent interpretation in terms of FP, FN, TP, and TN."
   ]
  },
  {
   "cell_type": "markdown",
   "metadata": {},
   "source": [
    "____\n",
    "\n",
    "# <font color=#AA00FF> Question 2: Final Project (10 Points) </font>\n",
    "\n",
    "For the second part of the HW, we are focusing on the final project. While the first project was mainly focused on exploration of a dataset using data science methods (EDA, IDA, Visualization, Imputation, ...), the final project is focused on implementing modeling methods which could be drawn from machine learning methods (linear regression, neural networks, support vector machines, gaussian process regression/classification, KNN, and any other regression-classification technique) as an exploratory or a predictive tool. <font color=darkred> **Detailed instructions are provided in the \"Final Project\" Documentation (can be found on D2L and Slack), which will guide your effort to develop appropriate web app for the submission!!** <font> \n",
    "\n",
    "    \n",
    "### Provide a summary of the final project requirements based on the information in the Final Project documentation.\n",
    "\n",
    "____\n",
    "\n",
    "    \n",
    "    \n"
   ]
  },
  {
   "cell_type": "markdown",
   "metadata": {},
   "source": [
    "The final project requirements aim to leverage machine learning methods to develop a Streamlit web application deployed on GitHub. Emphasis is placed on professionalism, interactivity, a clear goal, narrative, organization, and visualizations while avoiding walkthroughs and ensuring error-free functionality. Below is a summary of key points for the final project:\n",
    "\n",
    "### Project Focus:\n",
    "- **Modeling Methods**: Implement machine learning models (e.g., linear regression, neural networks, SVM, etc.) either on a new dataset or as an addition to the previous project.\n",
    "- **Streamlit App**: Develop a professional, realistic, and intuitive Streamlit web app as if developing for a company, not just a class project.\n",
    "\n",
    "### Project Requirements:\n",
    "- **Goal-Oriented**: Have a clear goal or purpose, going beyond basic Exploratory Data Analysis (EDA).\n",
    "- **Narrative**: Develop a coherent storyline that connects different project components and leads users to reach similar conclusions or understanding.\n",
    "- **Organized Structure**: Organize the app into sections or tabs, providing a convenient layout for users.\n",
    "- **Introduction**: Include a compelling introduction that informs users about the app's purpose and functionality.\n",
    "- **Bio Section**: Add a bio tab providing personal information, skills, hobbies, and interests to add a personal touch.\n",
    "- **Interactivity**: Ensure interactivity through Streamlit functionality and interactive visualizations using libraries like Plotly or Altair.\n",
    "- **Visualization**: Use meaningful and professional visualizations that serve a purpose, avoiding unnecessary exploration and 3D visualizations.\n",
    "- **Error-Free Functionality**: Ensure smooth operation and functionality of the web app, considering various user inputs and interactions.\n",
    "- **Limiting Features**: Limit feature selection in visualizations to maintain simplicity and user comprehension.\n",
    "- **Avoid Walkthroughs**: Avoid presenting content as a basic walkthrough, focusing on a professional showcase of skills.\n",
    "\n",
    "### Final Presentation:\n",
    "- Present the project as a professional product, avoiding academic language or project terminology.\n",
    "- Aim to showcase skills, problem-solving capabilities, and understanding of the data/problem.\n",
    "\n"
   ]
  },
  {
   "cell_type": "markdown",
   "metadata": {},
   "source": [
    "Now that you have understood the description and the requirements of the final project, for the remainder of this HW, use the time to complete your project. If you have any issues or questions let us know! \n"
   ]
  },
  {
   "cell_type": "code",
   "execution_count": null,
   "metadata": {},
   "outputs": [],
   "source": []
  }
 ],
 "metadata": {
  "colab": {
   "provenance": []
  },
  "kernelspec": {
   "display_name": "Python 3 (ipykernel)",
   "language": "python",
   "name": "python3"
  },
  "language_info": {
   "codemirror_mode": {
    "name": "ipython",
    "version": 3
   },
   "file_extension": ".py",
   "mimetype": "text/x-python",
   "name": "python",
   "nbconvert_exporter": "python",
   "pygments_lexer": "ipython3",
   "version": "3.11.4"
  }
 },
 "nbformat": 4,
 "nbformat_minor": 4
}
