{
 "cells": [
  {
   "cell_type": "code",
   "execution_count": null,
   "metadata": {
    "id": "tiPVWDE8dV2L"
   },
   "outputs": [],
   "source": [
    "import seaborn as sns\n",
    "import pandas as pd"
   ]
  },
  {
   "cell_type": "markdown",
   "metadata": {
    "id": "rQGCXlZMmrwf"
   },
   "source": [
    "Put your name here:\n",
    "\n",
    "> **Rohan**\n",
    "\n",
    "When you encounter questions in the text below, open a markdown cell in that problem area and put your answers.\n",
    "\n",
    "This HW is due Friday at midnight in D2L.\n"
   ]
  },
  {
   "cell_type": "markdown",
   "metadata": {
    "id": "LQXZ8JAldYzF"
   },
   "source": [
    "____\n",
    "# HW #2: Review and Pandas\n",
    "____\n"
   ]
  },
  {
   "cell_type": "code",
   "execution_count": null,
   "metadata": {},
   "outputs": [],
   "source": []
  },
  {
   "cell_type": "markdown",
   "metadata": {
    "id": "sP696FxMmUUS"
   },
   "source": [
    "✍🏻 **Problem 1, Pandas Indexing**: Describe multi-indexing in Pandas, using a code example in your explanation. You should have a markdown cell and a code cell."
   ]
  },
  {
   "cell_type": "code",
   "execution_count": null,
   "metadata": {},
   "outputs": [],
   "source": [
    "\n",
    "sereis= pd.Series([\"H\",\"J\",\"K\",\"L\"],index=[[\"1\",\"2\",\"4\",\"3\"],[0,0,1,3]])\n",
    "\n",
    "print(sereis)\n",
    "print()\n",
    "print(sereis.loc[\"1\"])\n",
    "print()\n",
    "\n",
    "print(sereis.iloc[0])\n"
   ]
  },
  {
   "cell_type": "markdown",
   "metadata": {
    "id": "wy4-d5zvuGBO"
   },
   "source": [
    "✍🏻 **Problem 2, PEP-8**: In the [PEP-8 standard](https://peps.python.org/pep-0008/) for Python, are these true or false?\n",
    "* you should use a tab, rather than four spaces for indenting\n",
    "* there is no limit to how long a line should be\n",
    "* functions at the top of your code should be surrounded by a single line\n",
    "* imports should all be on the same line."
   ]
  },
  {
   "cell_type": "markdown",
   "metadata": {
    "id": "TUQNZkNquIzO"
   },
   "source": [
    "✍🏻 **Problem 3. List Methods**: In a code cell, write code that performs these tasks:\n",
    "* sort the list `[3, 3, 1, 89, 0, 2]` in descending order,\n",
    "* add \"z\" to the end of the list `[\"w\", \"x\", \"y\"]`, and then reverse the order,\n",
    "* insert \"b\" between the \"a\" and \"c\" in the list [\"a\", \"c\"].\n",
    "\n",
    "\n",
    "\n",
    "\n",
    "\n"
   ]
  },
  {
   "cell_type": "markdown",
   "metadata": {
    "id": "Qo2fr6dCv4fN"
   },
   "source": [
    "✍🏻 **Problem 4. Web App Visualization**: Last week you built your first DS web app using `streamlit`. The web app used the Italian wine dataset from `sklearn` and made the plot using a visualization library called `Altair`. Modify your code to:\n",
    "* read the iris dataset from Seaborn,\n",
    "* rather than using `Altair`, use `Plotly`,\n",
    "* the interactive plot should be a 3D scatter plot,\n",
    "* update the text to describe this dataset.\n",
    "\n",
    "You already know how to get datasets from Seaborn. You may not have encountered `Plotly` before, however.\n",
    "\n",
    "[Here](https://docs.streamlit.io/library/api-reference/charts/st.plotly_chart) is how `Plotly` works with `streamlit`. [Read this page](https://docs.streamlit.io/library/api-reference/charts) to see all of the options that are available to you. For your project, you can choose from among all of these options!\n",
    "\n",
    "You will make many choices when you build your web app for your midterm project. Here we are exploring:\n",
    "* using different datasets,\n",
    "* using different visualization libraries,\n",
    "\n",
    "all within `streamlit`. Consider trying other datasets (e.g., mpg) and other visualization libraries (e.g., matplotlib) now.\n",
    "\n",
    "If you get stuck moving to a 3D scatter plot in `Plotly`, send a message on Slack for a hint.\n"
   ]
  },
  {
   "cell_type": "markdown",
   "metadata": {
    "id": "-5EN4WeOrTxx"
   },
   "source": [
    "✍🏻 **Problem 5, Data Structures**: In a markdown cell, describe each of these concepts and how they are related (or not).\n",
    "* unstructured data,\n",
    "* longitudinal data,\n",
    "* structured data,\n",
    "* data matrix,\n",
    "* panel data,\n",
    "* spatiotemporal data,\n",
    "* tidy data."
   ]
  },
  {
   "cell_type": "markdown",
   "metadata": {
    "id": "Rs3ix2yymYUO"
   },
   "source": [
    "✍🏻 **Problem 6, Pandas Methods**: This problem walks you through the steps to form a mask that selects portions of your data - a very general idea in data science. Here, we use the idea to clean the data. Go through this _very slowly_.\n",
    "\n",
    "Using the approach we have been using so far in this class, read in the penguins dataset into a dataframe (df).\n",
    "\n",
    "Once you have the dataset in a dataframe, visually inspect the df to see if there are any bad values, which will be called \"NaN\", for \"not a number\". Do you see any?\n",
    "\n",
    "Next, use `df.isna()` to see what it does. Describe what you see - what did it do?\n",
    "\n",
    "Read about the `any` command [here](https://pandas.pydata.org/docs/reference/api/pandas.DataFrame.any.html). In a code cell, put the command `df.isna().any(axis=1)` and describe what it is doing.\n",
    "\n",
    "One of the main observations so far is that the outputs are Booleans. Booleans play a big role in data science: they allow you to find patterns in the data and select based on those patterns.\n",
    "\n",
    "The way we get the final result is to select out of the original dataframe from the Booleans we created (which is a Series). We do this by putting the Booleans into `[]` after the name of the dataframe, as in `df[df.isna().any(axis=1)]`. Try this and describe what you see.\n",
    "\n",
    "Note that this is a bit tedious, which is why it is important that you understand each individual step. However, most often we simply want to drop these rows, not look at them. Finally, use [`dropna`](https://pandas.pydata.org/docs/reference/api/pandas.DataFrame.dropna.html) to drop all rows with NaNs. Look at the resulting dataframe to confirm you have a clean dataframe now. Use `.describe` on the original and the cleaned dataframe to see how many rows were lost and whether the statistics changed - what do you see?\n",
    "\n",
    "If this problem is very confusing because of the use of Boolean masks, [read this page](https://jakevdp.github.io/PythonDataScienceHandbook/02.06-boolean-arrays-and-masks.html). The use of masks for sorting and organizing is an _extremely_ powerful data tool in data science (as well as other areas). This is particularly powerful with Pandas dataframes, but there are equivalents in other libraries (e.g., NumPy)."
   ]
  },
  {
   "cell_type": "markdown",
   "metadata": {
    "id": "K30JRTNfsFX9"
   },
   "source": [
    "✍🏻 **Problem 7, Plotting in Pandas**: For the penguins dataset of the previous problem,\n",
    "* with Pandas, plot each of the four columns as Kernel Density Estimation plots,\n",
    "* using [scatter](https://pandas.pydata.org/docs/reference/api/pandas.DataFrame.plot.scatter.html), plot bill depth versus length.\n",
    "\n",
    "Use `Pandas` for these plots, _not_ `matplotlib` or `Seaborn` or anything else."
   ]
  }
 ],
 "metadata": {
  "colab": {
   "provenance": []
  },
  "kernelspec": {
   "display_name": "Python 3 (ipykernel)",
   "language": "python",
   "name": "python3"
  },
  "language_info": {
   "codemirror_mode": {
    "name": "ipython",
    "version": 3
   },
   "file_extension": ".py",
   "mimetype": "text/x-python",
   "name": "python",
   "nbconvert_exporter": "python",
   "pygments_lexer": "ipython3",
   "version": "3.11.4"
  }
 },
 "nbformat": 4,
 "nbformat_minor": 1
}
