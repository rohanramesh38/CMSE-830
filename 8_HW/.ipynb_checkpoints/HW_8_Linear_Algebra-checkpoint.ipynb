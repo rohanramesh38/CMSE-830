{
 "cells": [
  {
   "cell_type": "code",
   "execution_count": 1,
   "metadata": {
    "id": "mi-Fr8qlphRc"
   },
   "outputs": [],
   "source": [
    "import numpy as np\n",
    "import matplotlib.pyplot as plt\n",
    "from scipy import linalg"
   ]
  },
  {
   "cell_type": "markdown",
   "metadata": {
    "id": "OWeTaoSKscjx"
   },
   "source": [
    "![xkcd](https://imgs.xkcd.com/comics/machine_learning_2x.png)"
   ]
  },
  {
   "cell_type": "markdown",
   "metadata": {
    "id": "UVD6s7FFs7UE"
   },
   "source": [
    "____\n",
    "\n",
    "## Problem 1: Inverting a Matrix By Hand (10pts)\n",
    "\n",
    "I mentioned in class that we will mostly rely on Python libraries for performing linear algebra operations. Why not, isn't that why they were developed?!\n",
    "\n",
    "However, it is also good practice to know how to do these by yourself for the simplest cases. This allows you to explore ideas without a computer and build your intuition for what the libraries are doing. We'll learn here how to invert a $2\\times 2$ matrix by hand. Being able to do this by hand also gives you a test case to ensure you are using the Python libraries correctly.\n",
    "\n",
    "Follow these steps:\n",
    "1. Make a $2\\times 2$ matrix $A = \\begin{bmatrix} a & b \\\\ c & d\\end{bmatrix}$ using a NumPy array (you might want to try several choices); if you don't know about these already, NumPy has [some nice functionality for creating arrays](https://numpy.org/doc/stable/user/basics.creation.html), which can be matrices, of various types.\n",
    "2. Find the [determinant](https://en.wikipedia.org/wiki/Determinant) of your matrix, using:\n",
    "$$ \\mathrm{det}(A) = ad - cb.$$\n",
    "Do this by hand, not with a library.\n",
    "3. Form the inverse $A^{-1}$ with\n",
    "$$A^{-1} = \\frac{1}{\\mathrm{det}(A)}\\begin{bmatrix} d & -b \\\\ -c & a\\end{bmatrix}.$$\n",
    "Show all of your steps using $\\LaTeX$ in a markdown cell.\n",
    "4. Now that you have $A^{-1}$, use the rules of matrix multiplication to find the product $A^{-1}A$. Show your steps.\n",
    "5. Vary the matrix $A$ and comment on anything interesting you see. For example, what would $A$ look like if its determinant were $0$? For example, make a matrix for which $b=2a$ and $d = 2c$. What does this case correspond to?"
   ]
  },
  {
   "cell_type": "markdown",
   "metadata": {
    "id": "8GbDgAkw3I4g"
   },
   "source": [
    "____\n",
    "\n",
    "## Problem 2: Polynomial Regression (15pts)\n",
    "\n",
    "We have learned that linear regression refers to fitting data to a model in which the weights appear linearly. But, the model itself need not use linear functions. The Gaussian RBFs we used were an example of that. Another very common choice is that of a polynomial. Let's code two cases in which the number of weights is and is not the same as the number of data points.\n",
    "\n",
    "We wish to model our data with a polynomial. The data you are given is:\n",
    "$$x = [-2, -0.5, 0, 1] ,$$\n",
    "$$y = [0, 0.9375, 1, 3] .$$\n",
    "Because you have four data points, you are tempted to use a model with four parameters, such as:\n",
    "$$y = w_0 + w_1x + w_2x^2 + w_3x^3 .$$\n",
    "But, you are also worried that the data may be noisy so you **also** want to fit it to only three weights. You decide that the $x^3$ term could cause large excursions that might follow the noise, so your second model is:\n",
    "$$y = w_0 + w_1x + w_2x^2.$$\n",
    "\n",
    "Using only libraries from `linalg`, fit the data to both models. Plot the data and the two resulting models.\n",
    "\n",
    "As we have seen, the coding for this is trivial - the hard part is setting up the vectors and matrices. Slow down and be sure you understand what you are doing: this will help you set up the problem so that it is very easy. I'll give you a hint:\n",
    "$$\\underbrace{\\begin{bmatrix} y_1\\\\y_2\\\\y_3\\\\y_4\\end{bmatrix}}_{4\\times 1} = \\underbrace{\\begin{bmatrix} 0\\\\0.09375\\\\1\\\\3\\end{bmatrix}}_{4\\times 1} =\\underbrace{\\begin{bmatrix} 1 & -2 & 4 & 8 \\\\ 1 & -0.5 & 0.25 & 0.125 \\\\\\vdots  \\end{bmatrix}}_{4\\times 4}\\underbrace{\\begin{bmatrix} w_0\\\\w_1\\\\w_2\\\\w_3\\end{bmatrix}}_{4\\times 1}.$$\n",
    "It is crucial that you know where this came from!! Explain in a markdown cell where I got these numbers from.\n",
    "\n",
    "You then use Python to get the weight vector ${\\bf w}$, which allows you to plot the resulting polynomial. In one case you will need to use the pseudoinverse, [the `pinv` function](https://numpy.org/doc/stable/reference/generated/numpy.linalg.pinv.html), or in [SciPy](https://docs.scipy.org/doc/scipy/reference/generated/scipy.linalg.pinv.html#scipy.linalg.pinv), because you have more data points than weights.\n",
    "\n",
    "If you write your code in a general way, you can also try the third model:\n",
    "$$y = w_0 + w_1x.$$\n",
    "Do that next.\n",
    "\n",
    "In the world of machine learning, we would need to figure out which of these three models is the \"best\", a process called \"_model selection_\". We won't worry about it now, but I wanted you to at least be aware of the idea. A second idea I'll introduce here is \"_regularization_\", since it is connected. Regularization is penalizing weights that cause large excursions; here, we are doing this by hand by dropping the higher-order terms (e.g., setting $w_3=0$), thereby prohibiting predictions with large excursions.  There are very powerful techniques for automating this. There is a lot to learn from this problem other than just setting up regression problems and inverting a matrix! 🤓 In a markdown cell, comment on which model you think is best based on your plot(s) and explain your reasons. (If you take a machine learning course, you will learn powerful mathematical methods to make this judgement.)\n",
    "\n",
    "\n",
    "\n"
   ]
  },
  {
   "cell_type": "markdown",
   "metadata": {
    "id": "8vj2TdGXCFpK"
   },
   "source": [
    "____\n",
    "\n",
    "## Problem 3: Outer Product (5pts)\n",
    "\n",
    "Given the two vectors:\n",
    "$$v_1 = \\begin{bmatrix} 1 \\\\ 2 \\\\ 3\\end{bmatrix} \\: v_2 = \\begin{bmatrix} 1 \\\\ 1 \\\\ 1\\end{bmatrix},$$\n",
    "compute the two outer products\n",
    "$$v_1 v_2^T,$$\n",
    "and\n",
    "$$v_2 v_1^T.$$\n",
    "Do this _both_ by hand, and show your work using $\\LaTeX$, and using a NumPy or SciPy library. Does the order of the vectors matter for the outer product? What about the inner product? Show and explain all of the details.\n",
    "\n",
    "\n"
   ]
  },
  {
   "cell_type": "markdown",
   "metadata": {
    "id": "17MBxKFqSAar"
   },
   "source": [
    "____\n",
    "\n",
    "## Problem 4: SVD (10pts)\n",
    "\n",
    "Read in the iris dataset (get it from anywhere you want) and perform SVD on it [using the `linalg` library](https://numpy.org/doc/stable/reference/generated/numpy.linalg.svd.html). Answer these questions:\n",
    "1. what does `svd` return? discuss and show with code\n",
    "2. in what form does it return Σ? the full matrix? `print` what is returned\n",
    "3. does `svd` return $V$ or $V^T$?\n",
    "4. what does a plot of the singular values $\\sigma_n$ versus $n$ look like? use both linear scale and log-linear"
   ]
  },
  {
   "cell_type": "code",
   "execution_count": null,
   "metadata": {
    "id": "DeCPWGS4c8ld"
   },
   "outputs": [],
   "source": [
    "# starter code\n",
    "from sklearn.datasets import load_iris\n",
    "data = load_iris()\n",
    "\n",
    "X = data[\"data\"]\n",
    "# print(X)\n",
    "\n",
    "# now, to SVD....\n",
    "\n"
   ]
  },
  {
   "cell_type": "markdown",
   "metadata": {
    "id": "5B8pv-MfSF-8"
   },
   "source": [
    "____\n",
    "\n",
    "## Problem 5: SVD Again! (10pts)\n",
    "\n",
    "We are going to use real (iris) data to understand the singular values a bit better. The idea is very simple: we want to take a data matrix and approximate it with a lower rank matrix, using the singular values as our guide.\n",
    "\n",
    "If you take the SVD and write it out in terms of the columns of $U$ and $V$, which are vectors, you will find that\n",
    "$$X = \\sum_{i=1}^r \\sigma_i {\\bf u}_i {\\bf v}^T_i .$$\n",
    "\n",
    "Be sure you understand the shape of these vectors/matrices! Are these matrix multiplications, inner products, outer products? Go slowly and be sure you understand what you are looking at. Explain in your own words what is in this expression. It might help if you derive it yourself.\n",
    "\n",
    "If we start in 2D and only use the first singular value in this sum, then the result should be...._in 1D_? Let's check!\n",
    "\n",
    "* Take the iris dataset and choose any two columns; in fact, try all combinations of two columns.\n",
    "* Plot one column versus the other.\n",
    "* From those two columns, find its SVD.\n",
    "* From the SVD for a new, smaller $X$ using only the $i=1$ term in that sum ($X \\approx \\sigma_1 {\\bf u}_1 {\\bf v}_1^T$).\n",
    "* Add to the plot you just made the data in the new matrix. (That is, plot one column versus the other, on top of the original data using the approximate $X$ from one SV.)\n",
    "* Explain what you learned from your plots.\n",
    "\n",
    "A hint is to use the result from the outer product library you explored above. See problem 3 above.\n",
    "\n",
    "There is one issue that could be confusing: what is ${\\bf v}^T_i$? This is the $i$th column of ${\\bf v}$, then transposed. It is **not** the $i$th column of $V^T$!! If it helps, [read this page](https://en.wikipedia.org/wiki/Singular_value_decomposition).\n"
   ]
  },
  {
   "cell_type": "code",
   "execution_count": null,
   "metadata": {
    "colab": {
     "base_uri": "https://localhost:8080/"
    },
    "executionInfo": {
     "elapsed": 295,
     "status": "ok",
     "timestamp": 1668882157364,
     "user": {
      "displayName": "Vicente Amado Olivo",
      "userId": "06211665228838748236"
     },
     "user_tz": 300
    },
    "id": "9sEY8v_NVcTt",
    "outputId": "64b3d83e-13cf-4909-e426-980ac7f72979"
   },
   "outputs": [
    {
     "name": "stdout",
     "output_type": "stream",
     "text": [
      "The Σ that was returned is: [53.63004331  2.97631552]\n"
     ]
    },
    {
     "data": {
      "image/png": "[encoded data removed]",
      "text/plain": [
       "<Figure size 432x288 with 1 Axes>"
      ]
     },
     "metadata": {
      "needs_background": "light"
     },
     "output_type": "display_data"
    }
   ],
   "source": [
    "# starter code\n",
    "from sklearn.datasets import load_iris\n",
    "data = load_iris()\n",
    "\n",
    "# choose two columns out of the four\n",
    "A = data[\"data\"][:,2:4]\n",
    "\n",
    "# let's look at it\n",
    "plt.plot(A[:,0], A[:,1], '^')\n",
    "plt.title(\"raw data\")\n",
    "\n",
    "# perform SVD\n",
    "U, S, VT = linalg.svd(A)\n",
    "V = VT.T\n",
    "\n",
    "print(\"The Σ that was returned is:\", S)"
   ]
  },
  {
   "cell_type": "code",
   "execution_count": null,
   "metadata": {
    "id": "EwsCmYecYCZt"
   },
   "outputs": [],
   "source": [
    "# helper code, if you need it...\n",
    "# if you use this, open a markdown cell and explain every detail\n",
    "# smaller = S[0]*np.outer(U[:,0],V[:,0])\n",
    "# plt.plot(smaller[:,0], smaller[:,1])\n",
    "# plt.plot(A[:,0], A[:,1], '^')"
   ]
  }
 ],
 "metadata": {
  "colab": {
   "provenance": []
  },
  "kernelspec": {
   "display_name": "Python 3 (ipykernel)",
   "language": "python",
   "name": "python3"
  },
  "language_info": {
   "codemirror_mode": {
    "name": "ipython",
    "version": 3
   },
   "file_extension": ".py",
   "mimetype": "text/x-python",
   "name": "python",
   "nbconvert_exporter": "python",
   "pygments_lexer": "ipython3",
   "version": "3.11.4"
  }
 },
 "nbformat": 4,
 "nbformat_minor": 1
}
