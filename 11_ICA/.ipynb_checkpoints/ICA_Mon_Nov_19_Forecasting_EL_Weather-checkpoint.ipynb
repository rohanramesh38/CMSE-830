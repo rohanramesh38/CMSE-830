{
 "cells": [
  {
   "cell_type": "markdown",
   "metadata": {},
   "source": [
    "![ts](https://www.investopedia.com/thmb/jmL29zJcG1pdM3tTcWWdhRmYOs8=/1500x0/filters:no_upscale():max_bytes(150000):strip_icc()/TermDefinitions_TimeSeries__V1_CT-dc0c9cecb7ff462c85ce38af344a908c.jpg)"
   ]
  },
  {
   "cell_type": "code",
   "execution_count": 1,
   "metadata": {
    "tags": []
   },
   "outputs": [],
   "source": [
    "import numpy as np\n",
    "import matplotlib.pyplot as plt\n",
    "import pandas as pd"
   ]
  },
  {
   "cell_type": "markdown",
   "metadata": {},
   "source": [
    "____\n",
    "\n",
    "#### <font color='red'> Due at midnight. </font>\n",
    "\n",
    "<font color='purple'> One notebook from your group. Be sure to list who worked on this. </font>\n",
    "\n",
    "<font color='purple'> Read everything first so that you can pace yourself. Let us know if you have any questions. I recommend starting with the <font color=#FFAA00> Time Series Analysis </font> section, since that is where most of your questions/issues are likely to arise. </font>\n",
    "\n",
    "____"
   ]
  },
  {
   "cell_type": "markdown",
   "metadata": {
    "id": "tUCmxKpw6I1_"
   },
   "source": [
    "# <font color=#00AAFF> Time Series Analysis </font>\n",
    "\n",
    "In this ICA we are going to learn how to treat <font color='green'>time series data </font>using methods we have already learned in this class.\n",
    "\n",
    "In addition to learning about this particular data science spplication, the goal is to potentially give you tools for making your final project much more interesting.\n",
    "\n",
    "The basic idea is this: many types of analysis can be done using fairly simple methods. Not all data science goals require complicated algorithms. You _already_ have the tools to do time series forecasting! \n"
   ]
  },
  {
   "cell_type": "markdown",
   "metadata": {
    "id": "q0n0oXoD8YuX"
   },
   "source": [
    "## <font color=#FFAA00> Brainstorming Data Applications and Techniques </font>\n",
    "\n",
    "In the first part of this ICA, you will have two, related discussions with your group.\n",
    "\n",
    "In the first discussion, brainstorm on the many types of data analysis that could be done based on methods we have learned in this class if you adapted them. Use any resources you have to help with your discussion. In a markdown cell, summarize your discussion, perhaps using a table of applications and techniques.\n",
    "\n",
    "Just to get you started, how would you approach: image data? video data? sound data? multimodal data? language? Could you use SVD for these?\n",
    "\n",
    "In the second discussion, you are going to have basically the same discussion but with the _specific focus of regression_. Think, and search, widely to list many applications for regression. What creative ways can you use simple regression?\n",
    "\n"
   ]
  },
  {
   "cell_type": "markdown",
   "metadata": {
    "id": "HxUrM62S-YVk"
   },
   "source": [
    "![rbf](https://gamedevacademy.org/wp-content/uploads/2017/10/Curve-Fitting.gif)\n",
    "\n",
    "## <font color=#FFAA00> Interpolation, Extrapolation and Forecasting </font>\n",
    "\n",
    "We have discussed various techniques for building a model from data. For example, we could fit the data to a hyperplane and use that as our predictive model.\n",
    "\n",
    "With your group, list all of the models we have considered in this class and research some models we haven't discussed.\n",
    "\n",
    "Next, discuss the difference between interpolation and extrapolation. Which of these models are particularly good or bad at extrapolation? For example, what can we always expect if we model our data with a polynomial?\n",
    "\n",
    "How is smoothing related to interpolation? How would you smooth data rather than fit it perfectly?\n",
    "\n",
    "Put all of your thoughts into a markdown cell.\n",
    "\n",
    "In yet another discussion with your group, discuss forecasting. What is it? How is it related to interpolation? Extrapolation?\n",
    "\n",
    "Note that forecasting is not _exactly_ the same as extrapolation because _**time has one direction**_: we have the extra notion that data later in time depends on data earlier in time, but not the other way around.\n",
    "\n",
    "Add your group's thoughts to a markdown cell.\n",
    "\n",
    "If we want to forecast, for example, the weather, can we use regression? What does your group think? If you decide it's possible, how would you do it? If it is not possible, why is that? \n",
    "\n"
   ]
  },
  {
   "cell_type": "markdown",
   "metadata": {
    "id": "qsejqL69-mC7"
   },
   "source": [
    "\n",
    "![hurricane](https://www.nhc.noaa.gov/images/cone_5day_with_wind.png)\n",
    "\n",
    "## <font color=#FFAA00> Time Series Analysis </font>\n",
    "\n",
    "Time series analysis (TSA) is a huge topic. Today we will only focus on one aspect of it, which is forecasting. Forecasting simply refers to the prediction of a future trend. We all wish we could forecast the stock market better than everyone else! We would also like to forecast the weather, either on a local scale to ensure we can plan our weekend or on a larger scale if we are in charge of evacuating a large region of the country to protect people from a hurricane.\n",
    "\n",
    "We will use a dataset for weather for East Lansing, which is in D2L with this notebook. We will do a simple version of this in today's ICA, but you might consider doing more for your final project! I put some of the basic code below to save you some time. Read through the code below so that you know a bit about this dataset. Then, we'll do the forecasting!\n",
    "\n",
    "Note that this dataset has _**a lot**_ more information then we will use in this ICA. We are barely using what is here, which makes this is natural starting point for your final project if you would like to explore forecasting. \n",
    "\n",
    "\n"
   ]
  },
  {
   "cell_type": "code",
   "execution_count": null,
   "metadata": {
    "tags": []
   },
   "outputs": [],
   "source": [
    "df = pd.read_csv(\"weather_EL.csv\")\n",
    "\n",
    "temps = df[\"temp\"][:100000:1000].to_numpy()\n",
    "\n",
    "df.head(3)"
   ]
  },
  {
   "cell_type": "code",
   "execution_count": null,
   "metadata": {
    "tags": []
   },
   "outputs": [],
   "source": [
    "plt.plot(temps)\n",
    "plt.xlabel(\"index\")\n",
    "plt.ylabel(\"temperature [K]\") "
   ]
  },
  {
   "cell_type": "markdown",
   "metadata": {},
   "source": [
    "Ok, we have some simple weather data. Let's forecast it!"
   ]
  },
  {
   "cell_type": "markdown",
   "metadata": {
    "id": "jopmmm3lMYct"
   },
   "source": [
    "## <font color=#FFAA00> One-Step-Ahead Forecasting </font>\n",
    "\n",
    "Our next task is to turn what we already know about regression to a forecasting algorithm, which we will use to forecast the weather. As we will see, all we need to do is organize our thoughts and the data and we can use everything we already know!\n",
    "\n",
    "We will need **three** important ideas.\n",
    "\n",
    "A major goal for today is that you learn to be creative with all data science techniques. Given all of the math and tools available, you can piece them together however you wish to create unique data science solutions.\n",
    "\n",
    "The algorithm we will use today is based on this simple idea: _we take $N$ points at the end of our dataset and predict the next point_. Since regression only knows there is an input $X$ and an output $y$, it does \"care\" that the data came from a time series; and, what a great way to predict the weather tomorrow - use the weather for the past few days! This is our first idea: we get started by using the data at the very end of the dataset and start by predicting the first future time point.\n",
    "\n",
    "Now, you might be thinking: I never want to forecast for just one more day! I need to forecast for many, many days! For this, we need the second important idea: once we make a prediction, we add that to our previous dataset and then forecast again using this new dataset. Said another way: we use $N$ (final) points to predict the future value $y$, which is appended to the end of the dataset for use in the next prediction. We then predict this over and over and over until we are done. When you do this many times, it is called \"multi-step ahead\".\n",
    "\n",
    "Discuss this diagram with your group:\n",
    "\n",
    "![stepahead](https://pub.mdpi-res.com/energies/energies-13-04121/article_deploy/html/images/energies-13-04121-g003.png?1597113169)\n",
    "\n",
    "Pay close attention to the red dashed box, which slides to the right as each prediction is made, using more and more of the previous predictions.\n",
    "\n",
    " Discuss with your group several \"obvious ways\" you would do the forecasting. What are the pros and cons of each approach? I'll help you get started:\n",
    " * just use the final value as the next value\n",
    " * use the average of the final three values\n",
    " * be creative!\n",
    "\n",
    "If you have time, these are very easy to code! Try them!\n",
    "\n",
    "\n",
    "\n"
   ]
  },
  {
   "cell_type": "markdown",
   "metadata": {
    "id": "zw3FZ01CWz-O"
   },
   "source": [
    " ### <font color=#DD8800> Use Linear Algebra </font>\n",
    "\n",
    " Here is the logic we will use: we want to use _all_ of the available data to predict the trend. As usual, the hardest part is data organization - the actual math is \"easy\". Here is the logic:\n",
    " * take the _first_ $N$ data points and predict the $(N+1)$th,\n",
    " * shift by one point and use points $2 - (N+1)$ to predict the $(N+2)$th point\n",
    " * continue through the entire data set....\n",
    "\n",
    " We can organize our data like this:\n",
    "\n",
    " $${\\bf y} = \\begin{bmatrix} T_{N+1} \\\\ T_{N+2} \\\\ T_{N+3} \\\\ \\vdots \\end{bmatrix}$$\n",
    "\n",
    " $${\\bf X} = \\begin{bmatrix} T_1 & T_2 & \\ldots & T_N\\\\  T_2 & T_3 & \\ldots & T_{N+1}\\\\ \\vdots \\end{bmatrix} .$$\n",
    "\n",
    " We then have a model that is\n",
    " $$ {\\bf y} = {\\bf X} {\\bf a},$$\n",
    " which is trivially solved by finding\n",
    " $${\\bf a} =   {\\bf X}^{-1}{\\bf y} ,$$\n",
    "\n",
    " and we can make predictions using our model with the known ${\\bf a}$.\n",
    "\n",
    "This algorithm uses all of the data and produces a model that allows us to use the one-step ahead approach. We then simply start at the end of our dataset and use ${\\bf a}$ to get the iterative multistep ahead started.\n",
    "\n",
    "Take the weather data and write code to forecast the temperature. Note that nearly all of the work is simply organizing the data. To get you started, I wrote some code below that might give you some ideas on how to organize the data appropriately. I used two simple time series you can play with; or, start with your own code! Up to you and your group. (There are some definite improvements you can make! I am lazy!)"
   ]
  },
  {
   "cell_type": "code",
   "execution_count": null,
   "metadata": {
    "colab": {
     "base_uri": "https://localhost:8080/",
     "height": 491
    },
    "id": "ZbnqdUYdWzHT",
    "outputId": "18e8a9d9-7c89-4774-8dbb-8d7303add995",
    "tags": []
   },
   "outputs": [],
   "source": [
    "\n",
    "'''\n",
    "This code does not use weather data, but fake data to illustrate the ideas.\n",
    "You can ignore this code or use it for inspiration!\n",
    "'''\n",
    "\n",
    "# vary the length of the time series as well as the spacing\n",
    "signal = np.sin(np.linspace(0,10,51)/5) + np.sin(6.*np.linspace(0,10,51)/5)\n",
    "# try different time series\n",
    "# signal = np.sin(np.linspace(0,10,51)/5) # this one is easier to forecast - why?\n",
    "\n",
    "longer_signal = np.sin(np.linspace(0,20,101)/5) + np.sin(6.*np.linspace(0,20,101)/5) # used for validation\n",
    "\n",
    "plt.plot(signal)\n",
    "plt.xlabel(\"time (index)\")\n",
    "plt.ylabel(\"signal\")\n",
    "plt.title(\"fake data for TSA analysis\")"
   ]
  },
  {
   "cell_type": "code",
   "execution_count": null,
   "metadata": {
    "id": "4LP_S_pEeedJ",
    "tags": []
   },
   "outputs": [],
   "source": [
    "def organize_dataset(signal, N=1):\n",
    "\n",
    "    # create empty containers to organize the data into\n",
    "    X, y = [], []\n",
    "\n",
    "    for i in range(len(signal) - N):\n",
    "        a = signal[i:(i + N)]\n",
    "        X.append(a)\n",
    "        y.append(signal[i + N])\n",
    "\n",
    "    return np.array(X), np.array(y)\n",
    "\n",
    "def predict_next_value(input_vector, a):\n",
    "    return np.dot(input_vector, a)\n",
    "\n",
    "# VERY important to vary this N={1,2,3,4,5,6,....}; explain why\n",
    "N = 1\n",
    "\n",
    "X, y = organize_dataset(signal, N)\n",
    "\n",
    "# print(X)\n",
    "# print(y)\n",
    "update = np.linalg.pinv(X)@y\n",
    "\n",
    "# next value\n",
    "last_values = signal[-N:]\n",
    "next_value = predict_next_value(last_values, update)\n",
    "\n"
   ]
  },
  {
   "cell_type": "markdown",
   "metadata": {
    "id": "wqNHQgkMFUxg"
   },
   "source": [
    "Now, let's continue for many steps.\n"
   ]
  },
  {
   "cell_type": "code",
   "execution_count": null,
   "metadata": {
    "colab": {
     "base_uri": "https://localhost:8080/",
     "height": 391
    },
    "id": "busMRTEnhoxX",
    "outputId": "39aa9c43-d9cf-4c38-d34d-ed6881cced5c",
    "tags": []
   },
   "outputs": [],
   "source": [
    "plt.figure(figsize=(16,3))\n",
    "\n",
    "old_signal = signal.copy()\n",
    "new_signal = np.append(signal, next_value)\n",
    "\n",
    "steps = 100\n",
    "\n",
    "for _ in range(steps):\n",
    "\n",
    "  last_values = new_signal[-N:]\n",
    "  next_value = predict_next_value(last_values, update)\n",
    "  new_signal = np.append(new_signal, next_value)\n",
    "\n",
    "plt.title(f\"N = {N}\")\n",
    "plt.plot(signal, label='training')\n",
    "plt.plot(longer_signal, 'o', alpha=0.4, label='truth')\n",
    "plt.plot(new_signal, '-^', alpha=0.4, label='forecast')\n",
    "plt.legend()\n",
    "plt.grid(alpha=0.2)"
   ]
  },
  {
   "cell_type": "markdown",
   "metadata": {
    "id": "wcxsI-UBfVQk"
   },
   "source": [
    "\n",
    "Once you have your weather forecast working, answer all of the questions above in a markdown cell. In particular:\n",
    "* How important is the value of $N$?\n",
    "* Is there a value of $N$ that is \"too small\"? Too large? \n",
    "* What if the data is not sampled frequently enough? Too frequently? \n",
    "* Should the data be scaled? \n",
    "* How much signal do you need? What if you train on less/more data?\n",
    "* Can you control the time scale over which you can forecast?\n",
    "* Does your group have ideas for improving this algorithm? (e.g., remove the mean, remove trends first...)"
   ]
  },
  {
   "cell_type": "markdown",
   "metadata": {
    "id": "yIKwRGR2gpm8"
   },
   "source": [
    "____\n",
    "## <font color=#AAFF00> TSA Projects </font>\n",
    "\n",
    "TSA is a popular topic for the final project. There are many applications:\n",
    "* music\n",
    "* finance\n",
    "* brain waves\n",
    "* sleep cycles\n",
    "* and so on....\n",
    "\n",
    "And, forecasting is just one goal within TSA. Also, even within forecasting, there is the option of forecasting many variables together simultaneously. Two examples:\n",
    "1. forecast the weather by using temperature, pressure and humidity simultaneously,\n",
    "  * an interesting idea would be to forecast the weather in two nearby cities together, such as Lansing and Chicago,\n",
    "2. forecast many tech stocks together.\n",
    "\n",
    "You can explore ideas like causality. You get the idea - it's a rich area."
   ]
  },
  {
   "cell_type": "code",
   "execution_count": null,
   "metadata": {},
   "outputs": [],
   "source": []
  }
 ],
 "metadata": {
  "colab": {
   "provenance": []
  },
  "kernelspec": {
   "display_name": "Python 3 (ipykernel)",
   "language": "python",
   "name": "python3"
  },
  "language_info": {
   "codemirror_mode": {
    "name": "ipython",
    "version": 3
   },
   "file_extension": ".py",
   "mimetype": "text/x-python",
   "name": "python",
   "nbconvert_exporter": "python",
   "pygments_lexer": "ipython3",
   "version": "3.11.4"
  }
 },
 "nbformat": 4,
 "nbformat_minor": 4
}
