{
 "cells": [
  {
   "cell_type": "code",
   "execution_count": 2,
   "metadata": {
    "executionInfo": {
     "elapsed": 1658,
     "status": "ok",
     "timestamp": 1699445904310,
     "user": {
      "displayName": "Michael Murillo",
      "userId": "04445914509865448303"
     },
     "user_tz": 300
    },
    "id": "6mUws6ahprpN"
   },
   "outputs": [],
   "source": [
    "import numpy as np\n",
    "import matplotlib.pyplot as plt\n",
    "from sklearn.datasets import load_iris\n",
    "from mpl_toolkits.mplot3d import Axes3D\n",
    "import plotly.express as px"
   ]
  },
  {
   "cell_type": "markdown",
   "metadata": {},
   "source": [
    "## Team 6:\n",
    "- Graham Diedrich\n",
    "- Madhurya Shankar\n",
    "- Vishal Kumar\n",
    "- Rohan Ponramesh"
   ]
  },
  {
   "cell_type": "markdown",
   "metadata": {
    "id": "1k6b_oMG3upi"
   },
   "source": [
    "______\n",
    "\n",
    "# <font color=#FF00BB> Fun With Linear Algebra</font>\n",
    "\n",
    "In this ICA we will explore many linear algebra ideas using code, and perhaps a little math."
   ]
  },
  {
   "cell_type": "markdown",
   "metadata": {
    "id": "3UslEXxLtvob"
   },
   "source": [
    "## <font color=#FFBB00> Inner and Outer Products</font>\n",
    "\n",
    "Here are two vectors:\n",
    "$${\\bf x} = \\begin{bmatrix} 1 \\\\ 3 \\\\ 2\\end{bmatrix} ,$$\n",
    "$${\\bf y} = \\begin{bmatrix} -1 \\\\ 1 \\\\ 7\\end{bmatrix} .$$\n",
    "\n",
    "Find all possible inner and outer products, putting all details in a markdown cell. Do this completely by hand and show all work."
   ]
  },
  {
   "cell_type": "markdown",
   "metadata": {},
   "source": [
    "**Formula for calculating inner products:**\n",
    "\n",
    "$$\\mathbf{x} \\cdot \\mathbf{y} = x_1y_1 + x_2y_2 + x_3y_3$$\n",
    "\n",
    "**Vectors for $\\mathbf{x}$ and $\\mathbf{y}$:**\n",
    "\n",
    "$$\\mathbf{x} = \\begin{bmatrix} 1 \\\\ 3 \\\\ 2\\end{bmatrix}, \\quad \\mathbf{y} = \\begin{bmatrix} -1 \\\\ 1 \\\\ 7\\end{bmatrix}$$\n",
    "\n",
    "**Plugging into the dot product formula:**\n",
    "\n",
    "$$\\mathbf{x} \\cdot \\mathbf{y} = (1)(-1) + (3)(1) + (2)(7) = -1 + 3 + 14 = 16$$"
   ]
  },
  {
   "cell_type": "markdown",
   "metadata": {},
   "source": [
    "**Formula for calculating the outer products:**\n",
    "\n",
    "$$\\mathbf{x} \\otimes \\mathbf{y} = \\mathbf{x} \\mathbf{y}^T$$\n",
    "\n",
    "**Plugging into the formula:**\n",
    "\n",
    "$$\\mathbf{x} \\otimes \\mathbf{y} = \\begin{bmatrix} 1 \\\\ 3 \\\\ 2\\end{bmatrix} \\begin{bmatrix} -1 & 1 & 7\\end{bmatrix} = \\begin{bmatrix} -1 & 1 & 7 \\\\ -3 & 3 & 21 \\\\ -2 & 2 & 14\\end{bmatrix}$$"
   ]
  },
  {
   "cell_type": "markdown",
   "metadata": {
    "id": "w5VrHUpouf-t"
   },
   "source": [
    "_________\n",
    "\n",
    "Familiarize yourself with the NumPy documentation for the `linalg` library, which is [here](https://numpy.org/doc/stable/reference/routines.linalg.html#module-numpy.linalg).\n",
    "\n",
    "How does `linalg` store vectors? Does NumPy perform some operations directly, as in with `np.method` or do you always need to use `np.linalg.method`? Put a discussion in a markdown cell."
   ]
  },
  {
   "cell_type": "code",
   "execution_count": 3,
   "metadata": {
    "executionInfo": {
     "elapsed": 286,
     "status": "ok",
     "timestamp": 1699443678597,
     "user": {
      "displayName": "Michael Murillo",
      "userId": "04445914509865448303"
     },
     "user_tz": 300
    },
    "id": "4rDLWC_sueMI"
   },
   "outputs": [],
   "source": [
    "x = np.array([1, 3, 2])\n",
    "y = np.array([-1, 1, 7])"
   ]
  },
  {
   "cell_type": "code",
   "execution_count": 4,
   "metadata": {
    "colab": {
     "base_uri": "https://localhost:8080/"
    },
    "executionInfo": {
     "elapsed": 5,
     "status": "ok",
     "timestamp": 1699444190471,
     "user": {
      "displayName": "Michael Murillo",
      "userId": "04445914509865448303"
     },
     "user_tz": 300
    },
    "id": "4gq_K3nvvDEr",
    "outputId": "b3df027a-3a19-4f73-c0e4-3df59b5d4458"
   },
   "outputs": [
    {
     "data": {
      "text/plain": [
       "16"
      ]
     },
     "execution_count": 4,
     "metadata": {},
     "output_type": "execute_result"
    }
   ],
   "source": [
    "# Inner products\n",
    "np.inner(x, y)"
   ]
  },
  {
   "cell_type": "code",
   "execution_count": 5,
   "metadata": {},
   "outputs": [
    {
     "data": {
      "text/plain": [
       "array([[-1,  1,  7],\n",
       "       [-3,  3, 21],\n",
       "       [-2,  2, 14]])"
      ]
     },
     "execution_count": 5,
     "metadata": {},
     "output_type": "execute_result"
    }
   ],
   "source": [
    "# Outer products\n",
    "np.outer(x, y)"
   ]
  },
  {
   "cell_type": "markdown",
   "metadata": {
    "id": "D7qrfq6gwFO0"
   },
   "source": [
    "Find/learn the methods in NumPy that perform inner and outer products.\n",
    "\n",
    "Using those libraries, compute with NumPy all inner and outer products of $x$ and $y$. Do you get the same answers as you got when you did this by hand?\n",
    "\n",
    "In a markdown cell, discuss the sizes of the mathematical objects. In particular, how much memory is needed to store the two vectors relative to the size of what their outer product produces? Does it feel to you that somehow the outer product is generating \"new information\" somehow?\n",
    "\n",
    "Stop and have a discussion with your group. Quiz each other to be sure each person can articulate what you did before continuing.\n"
   ]
  },
  {
   "cell_type": "markdown",
   "metadata": {},
   "source": [
    "**We got the same answers by hand as we did using NumPy.**\n",
    "\n",
    "**The memory necessary to store a matrix is larger than the memory needed to store two vectors. The outer product is generating new information, because the components of the two vectors are being multiplied together.**"
   ]
  },
  {
   "cell_type": "markdown",
   "metadata": {
    "id": "4SrBkZRrxp_W"
   },
   "source": [
    "_____\n",
    "\n",
    "## <font color=#FFBB00> SVD With Iris Data</font>\n",
    "\n",
    "Read in the iris data, slice three of the columns and drop the labels. The new dataset will be three columns, forming a tall rectangular matrix. Print the matrix $X$ so that you have a good feel for its size and shape.\n",
    "\n",
    "Use `linalg` to find the SVD of $X$. Do these two steps:\n",
    "* in a markdown cell, itemize the options `svd` gives you,\n",
    "* print what `svd` returns and comment on the shapes of what is returned ($\\Sigma$ in particular).\n"
   ]
  },
  {
   "cell_type": "code",
   "execution_count": 10,
   "metadata": {
    "executionInfo": {
     "elapsed": 208,
     "status": "ok",
     "timestamp": 1699448783628,
     "user": {
      "displayName": "Michael Murillo",
      "userId": "04445914509865448303"
     },
     "user_tz": 300
    },
    "id": "qa2R5AQFvMff"
   },
   "outputs": [
    {
     "data": {
      "text/html": [
       "<div>\n",
       "<style scoped>\n",
       "    .dataframe tbody tr th:only-of-type {\n",
       "        vertical-align: middle;\n",
       "    }\n",
       "\n",
       "    .dataframe tbody tr th {\n",
       "        vertical-align: top;\n",
       "    }\n",
       "\n",
       "    .dataframe thead th {\n",
       "        text-align: right;\n",
       "    }\n",
       "</style>\n",
       "<table border=\"1\" class=\"dataframe\">\n",
       "  <thead>\n",
       "    <tr style=\"text-align: right;\">\n",
       "      <th></th>\n",
       "      <th>petal_length</th>\n",
       "      <th>sepal_length</th>\n",
       "      <th>sepal_width</th>\n",
       "    </tr>\n",
       "  </thead>\n",
       "  <tbody>\n",
       "    <tr>\n",
       "      <th>0</th>\n",
       "      <td>1.4</td>\n",
       "      <td>5.1</td>\n",
       "      <td>3.5</td>\n",
       "    </tr>\n",
       "    <tr>\n",
       "      <th>1</th>\n",
       "      <td>1.4</td>\n",
       "      <td>4.9</td>\n",
       "      <td>3.0</td>\n",
       "    </tr>\n",
       "    <tr>\n",
       "      <th>2</th>\n",
       "      <td>1.3</td>\n",
       "      <td>4.7</td>\n",
       "      <td>3.2</td>\n",
       "    </tr>\n",
       "    <tr>\n",
       "      <th>3</th>\n",
       "      <td>1.5</td>\n",
       "      <td>4.6</td>\n",
       "      <td>3.1</td>\n",
       "    </tr>\n",
       "    <tr>\n",
       "      <th>4</th>\n",
       "      <td>1.4</td>\n",
       "      <td>5.0</td>\n",
       "      <td>3.6</td>\n",
       "    </tr>\n",
       "    <tr>\n",
       "      <th>...</th>\n",
       "      <td>...</td>\n",
       "      <td>...</td>\n",
       "      <td>...</td>\n",
       "    </tr>\n",
       "    <tr>\n",
       "      <th>145</th>\n",
       "      <td>5.2</td>\n",
       "      <td>6.7</td>\n",
       "      <td>3.0</td>\n",
       "    </tr>\n",
       "    <tr>\n",
       "      <th>146</th>\n",
       "      <td>5.0</td>\n",
       "      <td>6.3</td>\n",
       "      <td>2.5</td>\n",
       "    </tr>\n",
       "    <tr>\n",
       "      <th>147</th>\n",
       "      <td>5.2</td>\n",
       "      <td>6.5</td>\n",
       "      <td>3.0</td>\n",
       "    </tr>\n",
       "    <tr>\n",
       "      <th>148</th>\n",
       "      <td>5.4</td>\n",
       "      <td>6.2</td>\n",
       "      <td>3.4</td>\n",
       "    </tr>\n",
       "    <tr>\n",
       "      <th>149</th>\n",
       "      <td>5.1</td>\n",
       "      <td>5.9</td>\n",
       "      <td>3.0</td>\n",
       "    </tr>\n",
       "  </tbody>\n",
       "</table>\n",
       "<p>150 rows × 3 columns</p>\n",
       "</div>"
      ],
      "text/plain": [
       "     petal_length  sepal_length  sepal_width\n",
       "0             1.4           5.1          3.5\n",
       "1             1.4           4.9          3.0\n",
       "2             1.3           4.7          3.2\n",
       "3             1.5           4.6          3.1\n",
       "4             1.4           5.0          3.6\n",
       "..            ...           ...          ...\n",
       "145           5.2           6.7          3.0\n",
       "146           5.0           6.3          2.5\n",
       "147           5.2           6.5          3.0\n",
       "148           5.4           6.2          3.4\n",
       "149           5.1           5.9          3.0\n",
       "\n",
       "[150 rows x 3 columns]"
      ]
     },
     "execution_count": 10,
     "metadata": {},
     "output_type": "execute_result"
    }
   ],
   "source": [
    "import seaborn as sns\n",
    "import pandas as pd\n",
    "iris = sns.load_dataset(\"iris\")\n",
    "iris_new=iris.loc[:, [\"petal_length\",\"sepal_length\",\"sepal_width\"]]\n",
    "iris_new"
   ]
  },
  {
   "cell_type": "markdown",
   "metadata": {
    "id": "2WPv40hiCXTC"
   },
   "source": [
    "In a markdown cell, explain what this code does and why it might be useful."
   ]
  },
  {
   "cell_type": "code",
   "execution_count": 11,
   "metadata": {
    "executionInfo": {
     "elapsed": 228,
     "status": "ok",
     "timestamp": 1699449048930,
     "user": {
      "displayName": "Michael Murillo",
      "userId": "04445914509865448303"
     },
     "user_tz": 300
    },
    "id": "B6QFgJCWyR0j"
   },
   "outputs": [
    {
     "data": {
      "text/plain": [
       "array([[1.4, 5.1, 3.5],\n",
       "       [1.4, 4.9, 3. ],\n",
       "       [1.3, 4.7, 3.2],\n",
       "       [1.5, 4.6, 3.1],\n",
       "       [1.4, 5. , 3.6],\n",
       "       [1.7, 5.4, 3.9],\n",
       "       [1.4, 4.6, 3.4],\n",
       "       [1.5, 5. , 3.4],\n",
       "       [1.4, 4.4, 2.9],\n",
       "       [1.5, 4.9, 3.1],\n",
       "       [1.5, 5.4, 3.7],\n",
       "       [1.6, 4.8, 3.4],\n",
       "       [1.4, 4.8, 3. ],\n",
       "       [1.1, 4.3, 3. ],\n",
       "       [1.2, 5.8, 4. ],\n",
       "       [1.5, 5.7, 4.4],\n",
       "       [1.3, 5.4, 3.9],\n",
       "       [1.4, 5.1, 3.5],\n",
       "       [1.7, 5.7, 3.8],\n",
       "       [1.5, 5.1, 3.8],\n",
       "       [1.7, 5.4, 3.4],\n",
       "       [1.5, 5.1, 3.7],\n",
       "       [1. , 4.6, 3.6],\n",
       "       [1.7, 5.1, 3.3],\n",
       "       [1.9, 4.8, 3.4],\n",
       "       [1.6, 5. , 3. ],\n",
       "       [1.6, 5. , 3.4],\n",
       "       [1.5, 5.2, 3.5],\n",
       "       [1.4, 5.2, 3.4],\n",
       "       [1.6, 4.7, 3.2],\n",
       "       [1.6, 4.8, 3.1],\n",
       "       [1.5, 5.4, 3.4],\n",
       "       [1.5, 5.2, 4.1],\n",
       "       [1.4, 5.5, 4.2],\n",
       "       [1.5, 4.9, 3.1],\n",
       "       [1.2, 5. , 3.2],\n",
       "       [1.3, 5.5, 3.5],\n",
       "       [1.4, 4.9, 3.6],\n",
       "       [1.3, 4.4, 3. ],\n",
       "       [1.5, 5.1, 3.4],\n",
       "       [1.3, 5. , 3.5],\n",
       "       [1.3, 4.5, 2.3],\n",
       "       [1.3, 4.4, 3.2],\n",
       "       [1.6, 5. , 3.5],\n",
       "       [1.9, 5.1, 3.8],\n",
       "       [1.4, 4.8, 3. ],\n",
       "       [1.6, 5.1, 3.8],\n",
       "       [1.4, 4.6, 3.2],\n",
       "       [1.5, 5.3, 3.7],\n",
       "       [1.4, 5. , 3.3],\n",
       "       [4.7, 7. , 3.2],\n",
       "       [4.5, 6.4, 3.2],\n",
       "       [4.9, 6.9, 3.1],\n",
       "       [4. , 5.5, 2.3],\n",
       "       [4.6, 6.5, 2.8],\n",
       "       [4.5, 5.7, 2.8],\n",
       "       [4.7, 6.3, 3.3],\n",
       "       [3.3, 4.9, 2.4],\n",
       "       [4.6, 6.6, 2.9],\n",
       "       [3.9, 5.2, 2.7],\n",
       "       [3.5, 5. , 2. ],\n",
       "       [4.2, 5.9, 3. ],\n",
       "       [4. , 6. , 2.2],\n",
       "       [4.7, 6.1, 2.9],\n",
       "       [3.6, 5.6, 2.9],\n",
       "       [4.4, 6.7, 3.1],\n",
       "       [4.5, 5.6, 3. ],\n",
       "       [4.1, 5.8, 2.7],\n",
       "       [4.5, 6.2, 2.2],\n",
       "       [3.9, 5.6, 2.5],\n",
       "       [4.8, 5.9, 3.2],\n",
       "       [4. , 6.1, 2.8],\n",
       "       [4.9, 6.3, 2.5],\n",
       "       [4.7, 6.1, 2.8],\n",
       "       [4.3, 6.4, 2.9],\n",
       "       [4.4, 6.6, 3. ],\n",
       "       [4.8, 6.8, 2.8],\n",
       "       [5. , 6.7, 3. ],\n",
       "       [4.5, 6. , 2.9],\n",
       "       [3.5, 5.7, 2.6],\n",
       "       [3.8, 5.5, 2.4],\n",
       "       [3.7, 5.5, 2.4],\n",
       "       [3.9, 5.8, 2.7],\n",
       "       [5.1, 6. , 2.7],\n",
       "       [4.5, 5.4, 3. ],\n",
       "       [4.5, 6. , 3.4],\n",
       "       [4.7, 6.7, 3.1],\n",
       "       [4.4, 6.3, 2.3],\n",
       "       [4.1, 5.6, 3. ],\n",
       "       [4. , 5.5, 2.5],\n",
       "       [4.4, 5.5, 2.6],\n",
       "       [4.6, 6.1, 3. ],\n",
       "       [4. , 5.8, 2.6],\n",
       "       [3.3, 5. , 2.3],\n",
       "       [4.2, 5.6, 2.7],\n",
       "       [4.2, 5.7, 3. ],\n",
       "       [4.2, 5.7, 2.9],\n",
       "       [4.3, 6.2, 2.9],\n",
       "       [3. , 5.1, 2.5],\n",
       "       [4.1, 5.7, 2.8],\n",
       "       [6. , 6.3, 3.3],\n",
       "       [5.1, 5.8, 2.7],\n",
       "       [5.9, 7.1, 3. ],\n",
       "       [5.6, 6.3, 2.9],\n",
       "       [5.8, 6.5, 3. ],\n",
       "       [6.6, 7.6, 3. ],\n",
       "       [4.5, 4.9, 2.5],\n",
       "       [6.3, 7.3, 2.9],\n",
       "       [5.8, 6.7, 2.5],\n",
       "       [6.1, 7.2, 3.6],\n",
       "       [5.1, 6.5, 3.2],\n",
       "       [5.3, 6.4, 2.7],\n",
       "       [5.5, 6.8, 3. ],\n",
       "       [5. , 5.7, 2.5],\n",
       "       [5.1, 5.8, 2.8],\n",
       "       [5.3, 6.4, 3.2],\n",
       "       [5.5, 6.5, 3. ],\n",
       "       [6.7, 7.7, 3.8],\n",
       "       [6.9, 7.7, 2.6],\n",
       "       [5. , 6. , 2.2],\n",
       "       [5.7, 6.9, 3.2],\n",
       "       [4.9, 5.6, 2.8],\n",
       "       [6.7, 7.7, 2.8],\n",
       "       [4.9, 6.3, 2.7],\n",
       "       [5.7, 6.7, 3.3],\n",
       "       [6. , 7.2, 3.2],\n",
       "       [4.8, 6.2, 2.8],\n",
       "       [4.9, 6.1, 3. ],\n",
       "       [5.6, 6.4, 2.8],\n",
       "       [5.8, 7.2, 3. ],\n",
       "       [6.1, 7.4, 2.8],\n",
       "       [6.4, 7.9, 3.8],\n",
       "       [5.6, 6.4, 2.8],\n",
       "       [5.1, 6.3, 2.8],\n",
       "       [5.6, 6.1, 2.6],\n",
       "       [6.1, 7.7, 3. ],\n",
       "       [5.6, 6.3, 3.4],\n",
       "       [5.5, 6.4, 3.1],\n",
       "       [4.8, 6. , 3. ],\n",
       "       [5.4, 6.9, 3.1],\n",
       "       [5.6, 6.7, 3.1],\n",
       "       [5.1, 6.9, 3.1],\n",
       "       [5.1, 5.8, 2.7],\n",
       "       [5.9, 6.8, 3.2],\n",
       "       [5.7, 6.7, 3.3],\n",
       "       [5.2, 6.7, 3. ],\n",
       "       [5. , 6.3, 2.5],\n",
       "       [5.2, 6.5, 3. ],\n",
       "       [5.4, 6.2, 3.4],\n",
       "       [5.1, 5.9, 3. ]])"
      ]
     },
     "execution_count": 11,
     "metadata": {},
     "output_type": "execute_result"
    }
   ],
   "source": [
    "matrix = iris_new.values\n",
    "matriximport numpy as np\n",
    "\n",
    "U, S, VT = np.linalg.svd(matrix, full_matrices=False, compute_uv=True, hermitian=False)\n",
    "print(U.shape)\n",
    "print(S.shape)\n",
    "print(VT.shape)\n",
    "print(S)"
   ]
  },
  {
   "cell_type": "markdown",
   "metadata": {},
   "source": [
    "In Singular Value Decomposition (SVD), the S matrix (singular values) and the U matrix (left singular vectors) will have the same number of columns, which is determined by the number of singular values present in the original matrix X. These matrices will have dimensions (m, k), where 'm' is the number of rows in the input matrix X, and 'k' is the number of singular values.\n",
    "\n",
    "On the other hand, the VT matrix (transpose of right singular vectors) will typically have dimensions (k, n), where 'k' is the same as the number of singular values, and 'n' is the number of columns in the input matrix X. VT may be square if the original matrix X is square or if it has full-rank, but in general, the dimensions of VT can vary.\n",
    "\n",
    "So, in summary, the dimensions of S and U are determined by the number of singular values, while the dimensions of VT depend on the shape of the original input matrix X."
   ]
  },
  {
   "cell_type": "markdown",
   "metadata": {
    "id": "EJPD4k_C0PWL"
   },
   "source": [
    "#### <font color=#FFBB00> @</font>\n",
    "\n",
    "From the documentation, figure out what the `@` operator does in Python."
   ]
  },
  {
   "cell_type": "markdown",
   "metadata": {},
   "source": [
    "In Python, the @ operator is used for matrix multiplication (matrix dot product). It is not specific to the numpy.linalg.svd function but rather a general Python operator for performing matrix multiplication. You can use the @ operator to perform matrix multiplication between two NumPy arrays.\n",
    "\n",
    "In the context of numpy.linalg.svd, you might use the @ operator when you want to reconstruct the original matrix X from its SVD components."
   ]
  },
  {
   "cell_type": "markdown",
   "metadata": {
    "id": "M1TgHpruzWF2"
   },
   "source": [
    "#### <font color=#FFBB00> U</font>\n",
    "\n",
    "In Python, how do we find the transpose of a matrix?\n",
    "\n",
    "Using `@` and the transpose, find $UU^T$. Print out the result and also use something like `imshow` to visualize the resulting matrix.\n",
    "\n",
    "Comment on your findings. What does this prove about $U$? What if you do $U^TU$?\n"
   ]
  },
  {
   "cell_type": "code",
   "execution_count": 12,
   "metadata": {
    "colab": {
     "base_uri": "https://localhost:8080/",
     "height": 472
    },
    "executionInfo": {
     "elapsed": 1920,
     "status": "ok",
     "timestamp": 1699445197551,
     "user": {
      "displayName": "Michael Murillo",
      "userId": "04445914509865448303"
     },
     "user_tz": 300
    },
    "id": "28Mb_l8s0bjd",
    "outputId": "615e9d5c-3ac9-4242-ac11-9cfdfabac8db"
   },
   "outputs": [
    {
     "name": "stdout",
     "output_type": "stream",
     "text": [
      "[[1 4]\n",
      " [2 5]\n",
      " [3 6]]\n",
      "[[14 32]\n",
      " [32 77]]\n"
     ]
    }
   ],
   "source": [
    "import numpy as np\n",
    "\n",
    "# Example matrix\n",
    "U = np.array([[1, 2, 3], [4, 5, 6]])\n",
    "\n",
    "# Transpose using .T attribute\n",
    "U_transpose = U.T\n",
    "\n",
    "print(U_transpose)\n",
    "print(U@U_transpose)\n",
    "U_Ut = U@U_transpose"
   ]
  },
  {
   "cell_type": "code",
   "execution_count": 13,
   "metadata": {},
   "outputs": [
    {
     "data": {
      "image/png": "[encoded data removed]",
      "text/plain": [
       "<Figure size 640x480 with 2 Axes>"
      ]
     },
     "metadata": {},
     "output_type": "display_data"
    }
   ],
   "source": [
    "# Visualization using imshow\n",
    "import matplotlib.pyplot as plt\n",
    "plt.imshow(U_Ut, cmap='viridis')\n",
    "plt.title(\"Result of U @ U.T\")\n",
    "plt.colorbar()\n",
    "plt.show()"
   ]
  },
  {
   "cell_type": "markdown",
   "metadata": {},
   "source": [
    "The findings from performing matrix operations U @ U.T and U.T @ U using the left singular vectors matrix U obtained from the Singular Value Decomposition (SVD) demonstrate that U is an orthogonal and orthonormal matrix. The result is very close to an identity matrix in both cases, which indicates that the left singular vectors are not only orthogonal to each other but also normalized, with unit lengths. This property confirms that the left singular vectors form a basis for the original data space, a fundamental characteristic of SVD. \n",
    "\n",
    "The orthogonality of U is vital in applications like Principal Component Analysis (PCA) and dimensionality reduction, where it allows for the extraction of the most informative features while preserving the core properties of the data."
   ]
  },
  {
   "cell_type": "markdown",
   "metadata": {
    "id": "fKejq4D81S5_"
   },
   "source": [
    "#### <font color=#FFBB00> $\\Sigma$ </font>\n",
    "\n",
    "Look at the values in $\\Sigma$ and comment on them. Are they large, small, increasing, decreasing, increasing rapidly?\n",
    "\n",
    "What command would convert the $\\Sigma$ you obtained to a matrix?\n",
    "\n",
    "The singular values are ordered in descending order, meaning they start from the largest and decrease as you move down the diagonal of the Σ matrix. \n"
   ]
  },
  {
   "cell_type": "markdown",
   "metadata": {
    "id": "FlIwYcJW14En"
   },
   "source": [
    "#### <font color=#FFBB00> $V$ </font>\n",
    "\n",
    "What did `svd` return, $V$ or $V^T$? Does the documentation refer to something like $V^H$? What does the $H$ mean?\n",
    "\n",
    "Perform the same operations on $V$ that you did with $U$. Does $V$ appear to have the same properties as $U$?\n",
    "From numpy.linalg.svd, the function returns the transpose of the right singular vectors matrix, VT, rather than V. \n",
    "\n",
    "The H notation is not explicitly mentioned in the documentation, but it is commonly used in linear algebra to denote the conjugate transpose of a matrix. In the context of SVD, U represents the left singular vectors, while Vh represents the conjugate transpose (or transpose, if the input is real) of the right singular vectors.\n",
    "\n",
    "Unitary array(s). The first a.ndim - 2 dimensions have the same size as those of the input a. The size of the last two dimensions depends on the value of full_matrices. Only returned when compute_uv is True."
   ]
  },
  {
   "cell_type": "code",
   "execution_count": 14,
   "metadata": {},
   "outputs": [
    {
     "ename": "NameError",
     "evalue": "name 'VT' is not defined",
     "output_type": "error",
     "traceback": [
      "\u001b[0;31m---------------------------------------------------------------------------\u001b[0m",
      "\u001b[0;31mNameError\u001b[0m                                 Traceback (most recent call last)",
      "Cell \u001b[0;32mIn[14], line 4\u001b[0m\n\u001b[1;32m      1\u001b[0m \u001b[38;5;28;01mimport\u001b[39;00m \u001b[38;5;21;01mnumpy\u001b[39;00m \u001b[38;5;28;01mas\u001b[39;00m \u001b[38;5;21;01mnp\u001b[39;00m\n\u001b[1;32m      2\u001b[0m \u001b[38;5;28;01mimport\u001b[39;00m \u001b[38;5;21;01mmatplotlib\u001b[39;00m\u001b[38;5;21;01m.\u001b[39;00m\u001b[38;5;21;01mpyplot\u001b[39;00m \u001b[38;5;28;01mas\u001b[39;00m \u001b[38;5;21;01mplt\u001b[39;00m\n\u001b[0;32m----> 4\u001b[0m VT_Vt \u001b[38;5;241m=\u001b[39m VT \u001b[38;5;241m@\u001b[39m VT\u001b[38;5;241m.\u001b[39mT\n\u001b[1;32m      6\u001b[0m \u001b[38;5;66;03m# Visualization using imshow\u001b[39;00m\n\u001b[1;32m      7\u001b[0m plt\u001b[38;5;241m.\u001b[39mimshow(VT_Vt, cmap\u001b[38;5;241m=\u001b[39m\u001b[38;5;124m'\u001b[39m\u001b[38;5;124mviridis\u001b[39m\u001b[38;5;124m'\u001b[39m)\n",
      "\u001b[0;31mNameError\u001b[0m: name 'VT' is not defined"
     ]
    }
   ],
   "source": [
    "import numpy as np\n",
    "import matplotlib.pyplot as plt\n",
    "\n",
    "VT_Vt = VT @ VT.T\n",
    "\n",
    "# Visualization using imshow\n",
    "plt.imshow(VT_Vt, cmap='viridis')\n",
    "plt.title(\"Result of VT @ VT.T\")\n",
    "plt.colorbar()\n",
    "plt.show()\n",
    "\n",
    "print(\"Result of VT @ VT.T:\")\n",
    "print(VT_Vt)\n"
   ]
  },
  {
   "cell_type": "markdown",
   "metadata": {},
   "source": [
    "The result of VT @ VT.T should be very close to an identity matrix, similar to the behavior observed with U @ U.T. This demonstrates that the transpose of the right singular vectors matrix VT is also orthogonal and orthonormal, just like U."
   ]
  },
  {
   "cell_type": "markdown",
   "metadata": {
    "id": "oX8qZe7c2TDL"
   },
   "source": [
    "#### <font color=#FFBB00> Put it back together. </font>\n",
    "\n",
    "Find the product $U\\Sigma V^T$ using the Python operations you just went through and compare what you get with the original $X$ you started with.\n",
    "\n",
    "_____\n",
    "\n",
    "Discuss this portion with your group members. Do any of your group members have any interesting insights or comments? Put them in a markdown cell.\n",
    "\n",
    "Do not continue until everyone in your group understands everything so far.\n",
    "\n",
    "_____"
   ]
  },
  {
   "cell_type": "markdown",
   "metadata": {
    "id": "MPTJjOG-4Ej3"
   },
   "source": [
    "#### <font color=#FFBB00> Lowering the Rank. </font>\n",
    "\n",
    "Plot your data in a 3D plot using Plotly so that you can interactively rotate the data and more easily view it from different angles.\n",
    "\n",
    "Get that working with $X$."
   ]
  },
  {
   "cell_type": "code",
   "execution_count": null,
   "metadata": {
    "executionInfo": {
     "elapsed": 1602,
     "status": "ok",
     "timestamp": 1699445983730,
     "user": {
      "displayName": "Michael Murillo",
      "userId": "04445914509865448303"
     },
     "user_tz": 300
    },
    "id": "tj6OpUhC3yoo"
   },
   "outputs": [],
   "source": [
    "# fig = px.scatter_3d(x=X[:,0], y=X[:,1], z=X[:,2])\n",
    "# fig.show()"
   ]
  },
  {
   "cell_type": "markdown",
   "metadata": {
    "id": "gdw2t0hNFEq9"
   },
   "source": [
    "\n",
    "Ok, let's put these pieces together. Carefully follow these steps:\n",
    "\n",
    "1. Using the original $X$ and its SVD construct three separate $\\Sigma_1, \\Sigma_2, \\Sigma_3$. $\\Sigma_1$ is the original you already obtained. $\\Sigma_2$ is formed by setting the smallest singular value (SV) to zero. $\\Sigma_3$ drops the next smallest SV.\n",
    "2. From those $\\Sigma_i$, create full (with the full shape, including rows of zeros) matrices for each.\n",
    "3. Create $X_1, X_2, X_3$ using $@$.\n",
    "4. Compute using code/Python the rank of each of these matrices. Are any of them rank deficient and, if so, why?\n",
    "5. Plot in an interactive Plotly 3D plot all of the $X_i$.\n",
    "6. Rotate the plot so that you can see the structure of the data. In a markdown cell, comment on your findings. In your discussions, describe the $X_i$ in terms of the idea of \"effective dimensionality\"."
   ]
  },
  {
   "cell_type": "code",
   "execution_count": null,
   "metadata": {
    "executionInfo": {
     "elapsed": 330,
     "status": "ok",
     "timestamp": 1699449390698,
     "user": {
      "displayName": "Michael Murillo",
      "userId": "04445914509865448303"
     },
     "user_tz": 300
    },
    "id": "r4OFGY5z6tDx"
   },
   "outputs": [],
   "source": []
  },
  {
   "cell_type": "markdown",
   "metadata": {
    "id": "W3yImqo6LEd4"
   },
   "source": [
    "\n",
    "## <font color=#FFBB00> SVD Spectral Representation </font>\n",
    "\n",
    "This next part is purely mathematical. Stand up with your group and use the chalkboards or whiteboards to work through this. Please ask for hints if you get stuck.\n",
    "\n",
    "When you have worked through this, show all of your work in a markdown cell using $\\LaTeX$.\n",
    "\n",
    "You will recall that there are very nice properties of multiplying by a diagonal matrix. This suggests that we can write the SVD in a compact form that reveals interesting properties of our data.\n",
    "\n",
    "Let's walk through this slowly. First, write down an arbitrary $2\\times 2$ matrix times a diagonal matrix of the form\n",
    "$$\\begin{bmatrix} \\sigma_1 & 0 \\\\ 0 &0  \\end{bmatrix},$$\n",
    "which multiplies another $2\\times 2$ matrix. Look at the form of the final result and think about how the structure of the middle diagonal matrix impacted the final result.\n",
    "\n",
    "Now for the fun part. From this result, can you write the final answer in terms of an _outer_ product?  \n",
    "\n",
    "Next, and this is a little more algebra, do exactly the same thing, but now with\n",
    "$$\\begin{bmatrix} \\sigma_1 & 0 \\\\ 0 &\\sigma_2  \\end{bmatrix}.$$\n",
    "\n",
    "Can you write this in terms of a sum of two outer products?\n",
    "\n",
    "________________________\n",
    "\n",
    "Argue based on your results that we can always write the SVD as\n",
    "$$X = \\sum_i \\sigma_i u_i v_i^T .$$\n",
    "In this expression, what is $u_i$? What is $v_i$? What is $v_i^T$? What are the shapes of each of the objects? Are they constants, vectors, matrices? Discuss in a markdown.\n",
    "\n",
    "Given that the SVs are ordered from large to very small, what does this tell you about the size of the terms in this sum?\n",
    "\n",
    "Connect [this sum](https://en.wikipedia.org/wiki/Singular_value_decomposition), which is called the spectral respresentation of the SVD, to the visualizations you generated earlier. Put a detailed discussion in a markdown cell.\n",
    "\n",
    "\n",
    "\n"
   ]
  },
  {
   "cell_type": "markdown",
   "metadata": {
    "id": "RhxL_gTCM0Z9"
   },
   "source": [
    "the arbitary matrix we took is  $$\\begin{bmatrix} a11 & a12 \\\\ a21 & a22  \\end{bmatrix} \\begin{bmatrix} \\sigma_1 & 0 \\\\ 0 &0  \\end{bmatrix} \\begin{bmatrix} b11 & b12 \\\\ b21 & b22  \\end{bmatrix} = \\begin{bmatrix} \\sigma_1a11b11 & \\sigma_1a11b12 \\\\ \\sigma_1a21b11 & \\sigma_1a21b12  \\end{bmatrix}$$"
   ]
  },
  {
   "cell_type": "markdown",
   "metadata": {},
   "source": [
    "the matrix can be represented as outer product of  "
   ]
  },
  {
   "cell_type": "markdown",
   "metadata": {},
   "source": [
    "$$\\begin{bmatrix} \\sigma_1a11b11 & \\sigma_1a11b12 \\\\ \\sigma_1a21b11 & \\sigma_1a21b12  \\end{bmatrix} =\\begin{bmatrix} \\sigma_1a11 \\\\ \\sigma_1a21   \\end{bmatrix} \\begin{bmatrix} b11 & b12 \\end{bmatrix}$$"
   ]
  },
  {
   "cell_type": "markdown",
   "metadata": {},
   "source": [
    "the matrix multiplication"
   ]
  },
  {
   "cell_type": "markdown",
   "metadata": {},
   "source": [
    "  $$\\begin{bmatrix} a11 & a12 \\\\ a21 & a22  \\end{bmatrix} \\begin{bmatrix} \\sigma_1 & 0 \\\\ 0 & \\sigma_2  \\end{bmatrix} \\begin{bmatrix} b11 & b12 \\\\ b21 & b22  \\end{bmatrix}  = \\begin{bmatrix} a11\\sigma_1ab11+ a12\\sigma_2ab21 & a11\\sigma_1ab12+ a12\\sigma_2ab22 \\\\ a21\\sigma_1ab11+ a22\\sigma_2ab21 & a21\\sigma_1ab12+ a22\\sigma_2ab22  \\end{bmatrix}$$"
   ]
  },
  {
   "cell_type": "markdown",
   "metadata": {},
   "source": [
    "$$ \\begin{bmatrix} a11\\sigma_1ab11+ a12\\sigma_2ab21 & a11\\sigma_1ab12+ a12\\sigma_2ab22 \\\\ a21\\sigma_1ab11+ a22\\sigma_2ab21 & a21\\sigma_1ab12+ a22\\sigma_2ab22  \\end{bmatrix} = \\sigma_1 \\begin{bmatrix} a11 \\\\ a21   \\end{bmatrix} \\begin{bmatrix} b11 & b12 \\end{bmatrix} + \\sigma_2 \\begin{bmatrix} a12 \\\\ a22   \\end{bmatrix} \\begin{bmatrix} b21 & b22 \\end{bmatrix}$$\n",
    "\n"
   ]
  },
  {
   "cell_type": "markdown",
   "metadata": {},
   "source": [
    "Since we can expand the terms as a sum of outer product of 2 vectors we can jsutify that   $$X = \\sum_i \\sigma_i u_i v_i^T .$$"
   ]
  },
  {
   "cell_type": "markdown",
   "metadata": {},
   "source": [
    "### Ans:\n",
    "- Based on these results, we can generalize to any matrix X that has an SVD of the form\n",
    "$$ X = UDV^T $$\n",
    "\n",
    "where U and V are orthogonal matrices and D is a diagonal matrix with the singular values σi​ on the diagonal. We can write this as:\n",
    "\n",
    "$$ X = \\sum_i \\sigma_i u_i v_i^T $$\n",
    "\n",
    "where u_i​ and v_i​ are the columns of U and V, respectively, and vi^T​ is the transpose of v_i​. In this expression, u_i​ and v_i​ are vectors of the same length as the rows and columns of X, respectively, and σ_i​ are constants. The shape of the sum is the same as the shape of X.\n",
    "\n",
    "- Given that the singular values are ordered from large to very small, this tells us that the size of the terms in this sum decreases as i increases. This means that the first few terms capture most of the information and variation in the matrix X, while the later terms are negligible.\n",
    "\n",
    "- The spectral representation of the SVD connects to the visualizations we generated earlier by showing how the matrix X can be decomposed into a linear combination of rank-one matrices, each of which corresponds to a direction of maximal variance in the data. The singular values σi​ indicate the importance of each direction, and the vectors ui​ and vi​ indicate the orientation of each direction. The visualizations show how the data points are projected onto these directions and how much information is preserved or lost by reducing the dimensionality."
   ]
  },
  {
   "cell_type": "code",
   "execution_count": null,
   "metadata": {},
   "outputs": [],
   "source": []
  }
 ],
 "metadata": {
  "colab": {
   "authorship_tag": "ABX9TyNW2/ibJlPtjsHEvfKhtS/E",
   "provenance": []
  },
  "kernelspec": {
   "display_name": "Python 3 (ipykernel)",
   "language": "python",
   "name": "python3"
  },
  "language_info": {
   "codemirror_mode": {
    "name": "ipython",
    "version": 3
   },
   "file_extension": ".py",
   "mimetype": "text/x-python",
   "name": "python",
   "nbconvert_exporter": "python",
   "pygments_lexer": "ipython3",
   "version": "3.11.4"
  }
 },
 "nbformat": 4,
 "nbformat_minor": 1
}
