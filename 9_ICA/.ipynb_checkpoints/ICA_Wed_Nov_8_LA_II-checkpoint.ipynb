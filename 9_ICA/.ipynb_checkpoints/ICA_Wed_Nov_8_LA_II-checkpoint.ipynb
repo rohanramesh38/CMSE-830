{
 "cells": [
  {
   "cell_type": "code",
   "execution_count": null,
   "metadata": {
    "executionInfo": {
     "elapsed": 1658,
     "status": "ok",
     "timestamp": 1699445904310,
     "user": {
      "displayName": "Michael Murillo",
      "userId": "04445914509865448303"
     },
     "user_tz": 300
    },
    "id": "6mUws6ahprpN"
   },
   "outputs": [],
   "source": [
    "import numpy as np\n",
    "import matplotlib.pyplot as plt\n",
    "from sklearn.datasets import load_iris\n",
    "from mpl_toolkits.mplot3d import Axes3D\n",
    "import plotly.express as px"
   ]
  },
  {
   "cell_type": "markdown",
   "metadata": {
    "id": "1k6b_oMG3upi"
   },
   "source": [
    "______\n",
    "\n",
    "# <font color=#FF00BB> Fun With Linear Algebra</font>\n",
    "\n",
    "In this ICA we will explore many linear algebra ideas using code, and perhaps a little math."
   ]
  },
  {
   "cell_type": "markdown",
   "metadata": {
    "id": "3UslEXxLtvob"
   },
   "source": [
    "## <font color=#FFBB00> Inner and Outer Products</font>\n",
    "\n",
    "Here are two vectors:\n",
    "$${\\bf x} = \\begin{bmatrix} 1 \\\\ 3 \\\\ 2\\end{bmatrix} ,$$\n",
    "$${\\bf y} = \\begin{bmatrix} -1 \\\\ 1 \\\\ 7\\end{bmatrix} .$$\n",
    "\n",
    "Find all possible inner and outer products, putting all details in a markdown cell. Do this completely by hand and show all work."
   ]
  },
  {
   "cell_type": "markdown",
   "metadata": {
    "id": "w5VrHUpouf-t"
   },
   "source": [
    "_________\n",
    "\n",
    "Familiarize yourself with the NumPy documentation for the `linalg` library, which is [here](https://numpy.org/doc/stable/reference/routines.linalg.html#module-numpy.linalg).\n",
    "\n",
    "How does `linalg` store vectors? Does NumPy perform some operations directly, as in with `np.method` or do you always need to use `np.linalg.method`? Put a discussion in a markdown cell."
   ]
  },
  {
   "cell_type": "code",
   "execution_count": null,
   "metadata": {
    "executionInfo": {
     "elapsed": 286,
     "status": "ok",
     "timestamp": 1699443678597,
     "user": {
      "displayName": "Michael Murillo",
      "userId": "04445914509865448303"
     },
     "user_tz": 300
    },
    "id": "4rDLWC_sueMI"
   },
   "outputs": [],
   "source": [
    "x = np.array([1, 3, 2])\n",
    "y = np.array([-1, 1, 7])"
   ]
  },
  {
   "cell_type": "code",
   "execution_count": null,
   "metadata": {
    "colab": {
     "base_uri": "https://localhost:8080/"
    },
    "executionInfo": {
     "elapsed": 5,
     "status": "ok",
     "timestamp": 1699444190471,
     "user": {
      "displayName": "Michael Murillo",
      "userId": "04445914509865448303"
     },
     "user_tz": 300
    },
    "id": "4gq_K3nvvDEr",
    "outputId": "b3df027a-3a19-4f73-c0e4-3df59b5d4458"
   },
   "outputs": [],
   "source": []
  },
  {
   "cell_type": "markdown",
   "metadata": {
    "id": "D7qrfq6gwFO0"
   },
   "source": [
    "Find/learn the methods in NumPy that perform inner and outer products.\n",
    "\n",
    "Using those libraries, compute with NumPy all inner and outer products of $x$ and $y$. Do you get the same answers as you got when you did this by hand?\n",
    "\n",
    "In a markdown cell, discuss the sizes of the mathematical objects. In particular, how much memory is needed to store the two vectors relative to the size of what their outer product produces? Does it feel to you that somehow the outer product is generating \"new information\" somehow?\n",
    "\n",
    "Stop and have a discussion with your group. Quiz each other to be sure each person can articulate what you did before continuing.\n"
   ]
  },
  {
   "cell_type": "markdown",
   "metadata": {
    "id": "4SrBkZRrxp_W"
   },
   "source": [
    "_____\n",
    "\n",
    "## <font color=#FFBB00> SVD With Iris Data</font>\n",
    "\n",
    "Read in the iris data, slice three of the columns and drop the labels. The new dataset will be three columns, forming a tall rectangular matrix. Print the matrix $X$ so that you have a good feel for its size and shape.\n",
    "\n",
    "Use `linalg` to find the SVD of $X$. Do these two steps:\n",
    "* in a markdown cell, itemize the options `svd` gives you,\n",
    "* print what `svd` returns and comment on the shapes of what is returned ($\\Sigma$ in particular).\n"
   ]
  },
  {
   "cell_type": "code",
   "execution_count": null,
   "metadata": {
    "executionInfo": {
     "elapsed": 208,
     "status": "ok",
     "timestamp": 1699448783628,
     "user": {
      "displayName": "Michael Murillo",
      "userId": "04445914509865448303"
     },
     "user_tz": 300
    },
    "id": "qa2R5AQFvMff"
   },
   "outputs": [],
   "source": [
    "iris = load_iris()\n",
    "X = "
   ]
  },
  {
   "cell_type": "markdown",
   "metadata": {
    "id": "2WPv40hiCXTC"
   },
   "source": [
    "In a markdown cell, explain what this code does and why it might be useful."
   ]
  },
  {
   "cell_type": "code",
   "execution_count": null,
   "metadata": {
    "executionInfo": {
     "elapsed": 228,
     "status": "ok",
     "timestamp": 1699449048930,
     "user": {
      "displayName": "Michael Murillo",
      "userId": "04445914509865448303"
     },
     "user_tz": 300
    },
    "id": "B6QFgJCWyR0j"
   },
   "outputs": [],
   "source": []
  },
  {
   "cell_type": "markdown",
   "metadata": {
    "id": "EJPD4k_C0PWL"
   },
   "source": [
    "#### <font color=#FFBB00> @</font>\n",
    "\n",
    "From the documentation, figure out what the `@` operator does in Python."
   ]
  },
  {
   "cell_type": "markdown",
   "metadata": {
    "id": "M1TgHpruzWF2"
   },
   "source": [
    "#### <font color=#FFBB00> U</font>\n",
    "\n",
    "In Python, how do we find the transpose of a matrix?\n",
    "\n",
    "Using `@` and the transpose, find $UU^T$. Print out the result and also use something like `imshow` to visualize the resulting matrix.\n",
    "\n",
    "Comment on your findings. What does this prove about $U$? What if you do $U^TU$?\n"
   ]
  },
  {
   "cell_type": "code",
   "execution_count": null,
   "metadata": {
    "colab": {
     "base_uri": "https://localhost:8080/",
     "height": 472
    },
    "executionInfo": {
     "elapsed": 1920,
     "status": "ok",
     "timestamp": 1699445197551,
     "user": {
      "displayName": "Michael Murillo",
      "userId": "04445914509865448303"
     },
     "user_tz": 300
    },
    "id": "28Mb_l8s0bjd",
    "outputId": "615e9d5c-3ac9-4242-ac11-9cfdfabac8db"
   },
   "outputs": [],
   "source": []
  },
  {
   "cell_type": "markdown",
   "metadata": {
    "id": "fKejq4D81S5_"
   },
   "source": [
    "#### <font color=#FFBB00> $\\Sigma$ </font>\n",
    "\n",
    "Look at the values in $\\Sigma$ and comment on them. Are they large, small, increasing, decreasing, increasing rapidly?\n",
    "\n",
    "What command would convert the $\\Sigma$ you obtained to a matrix?\n"
   ]
  },
  {
   "cell_type": "markdown",
   "metadata": {
    "id": "FlIwYcJW14En"
   },
   "source": [
    "#### <font color=#FFBB00> $V$ </font>\n",
    "\n",
    "What did `svd` return, $V$ or $V^T$? Does the documentation refer to something like $V^H$? What does the $H$ mean?\n",
    "\n",
    "Perform the same operations on $V$ that you did with $U$. Does $V$ appear to have the same properties as $U$?"
   ]
  },
  {
   "cell_type": "markdown",
   "metadata": {
    "id": "oX8qZe7c2TDL"
   },
   "source": [
    "#### <font color=#FFBB00> Put it back together. </font>\n",
    "\n",
    "Find the product $U\\Sigma V^T$ using the Python operations you just went through and compare what you get with the original $X$ you started with.\n",
    "\n",
    "_____\n",
    "\n",
    "Discuss this portion with your group members. Do any of your group members have any interesting insights or comments? Put them in a markdown cell.\n",
    "\n",
    "Do not continue until everyone in your group understands everything so far.\n",
    "\n",
    "_____"
   ]
  },
  {
   "cell_type": "markdown",
   "metadata": {
    "id": "MPTJjOG-4Ej3"
   },
   "source": [
    "#### <font color=#FFBB00> Lowering the Rank. </font>\n",
    "\n",
    "Plot your data in a 3D plot using Plotly so that you can interactively rotate the data and more easily view it from different angles.\n",
    "\n",
    "Get that working with $X$."
   ]
  },
  {
   "cell_type": "code",
   "execution_count": null,
   "metadata": {
    "executionInfo": {
     "elapsed": 1602,
     "status": "ok",
     "timestamp": 1699445983730,
     "user": {
      "displayName": "Michael Murillo",
      "userId": "04445914509865448303"
     },
     "user_tz": 300
    },
    "id": "tj6OpUhC3yoo"
   },
   "outputs": [],
   "source": [
    "# fig = px.scatter_3d(x=X[:,0], y=X[:,1], z=X[:,2])\n",
    "# fig.show()"
   ]
  },
  {
   "cell_type": "markdown",
   "metadata": {
    "id": "gdw2t0hNFEq9"
   },
   "source": [
    "\n",
    "Ok, let's put these pieces together. Carefully follow these steps:\n",
    "\n",
    "1. Using the original $X$ and its SVD construct three separate $\\Sigma_1, \\Sigma_2, \\Sigma_3$. $\\Sigma_1$ is the original you already obtained. $\\Sigma_2$ is formed by setting the smallest singular value (SV) to zero. $\\Sigma_3$ drops the next smallest SV.\n",
    "2. From those $\\Sigma_i$, create full (with the full shape, including rows of zeros) matrices for each.\n",
    "3. Create $X_1, X_2, X_3$ using $@$.\n",
    "4. Compute using code/Python the rank of each of these matrices. Are any of them rank deficient and, if so, why?\n",
    "5. Plot in an interactive Plotly 3D plot all of the $X_i$.\n",
    "6. Rotate the plot so that you can see the structure of the data. In a markdown cell, comment on your findings. In your discussions, describe the $X_i$ in terms of the idea of \"effective dimensionality\"."
   ]
  },
  {
   "cell_type": "code",
   "execution_count": null,
   "metadata": {
    "executionInfo": {
     "elapsed": 330,
     "status": "ok",
     "timestamp": 1699449390698,
     "user": {
      "displayName": "Michael Murillo",
      "userId": "04445914509865448303"
     },
     "user_tz": 300
    },
    "id": "r4OFGY5z6tDx"
   },
   "outputs": [],
   "source": []
  },
  {
   "cell_type": "markdown",
   "metadata": {
    "id": "W3yImqo6LEd4"
   },
   "source": [
    "\n",
    "## <font color=#FFBB00> SVD Spectral Representation </font>\n",
    "\n",
    "This next part is purely mathematical. Stand up with your group and use the chalkboards or whiteboards to work through this. Please ask for hints if you get stuck.\n",
    "\n",
    "When you have worked through this, show all of your work in a markdown cell using $\\LaTeX$.\n",
    "\n",
    "You will recall that there are very nice properties of multiplying by a diagonal matrix. This suggests that we can write the SVD in a compact form that reveals interesting properties of our data.\n",
    "\n",
    "Let's walk through this slowly. First, write down an arbitrary $2\\times 2$ matrix times a diagonal matrix of the form\n",
    "$$\\begin{bmatrix} \\sigma_1 & 0 \\\\ 0 &0  \\end{bmatrix},$$\n",
    "which multiplies another $2\\times 2$ matrix. Look at the form of the final result and think about how the structure of the middle diagonal matrix impacted the final result.\n",
    "\n",
    "Now for the fun part. From this result, can you write the final answer in terms of an _outer_ product?  \n",
    "\n",
    "Next, and this is a little more algebra, do exactly the same thing, but now with\n",
    "$$\\begin{bmatrix} \\sigma_1 & 0 \\\\ 0 &\\sigma_2  \\end{bmatrix}.$$\n",
    "\n",
    "Can you write this in terms of a sum of two outer products?\n",
    "\n",
    "________________________\n",
    "\n",
    "Argue based on your results that we can always write the SVD as\n",
    "$$X = \\sum_i \\sigma_i u_i v_i^T .$$\n",
    "In this expression, what is $u_i$? What is $v_i$? What is $v_i^T$? What are the shapes of each of the objects? Are they constants, vectors, matrices? Discuss in a markdown.\n",
    "\n",
    "Given that the SVs are ordered from large to very small, what does this tell you about the size of the terms in this sum?\n",
    "\n",
    "Connect [this sum](https://en.wikipedia.org/wiki/Singular_value_decomposition), which is called the spectral respresentation of the SVD, to the visualizations you generated earlier. Put a detailed discussion in a markdown cell.\n",
    "\n",
    "\n",
    "\n"
   ]
  },
  {
   "cell_type": "code",
   "execution_count": null,
   "metadata": {
    "id": "RhxL_gTCM0Z9"
   },
   "outputs": [],
   "source": []
  }
 ],
 "metadata": {
  "colab": {
   "authorship_tag": "ABX9TyNW2/ibJlPtjsHEvfKhtS/E",
   "provenance": []
  },
  "kernelspec": {
   "display_name": "Python 3 (ipykernel)",
   "language": "python",
   "name": "python3"
  },
  "language_info": {
   "codemirror_mode": {
    "name": "ipython",
    "version": 3
   },
   "file_extension": ".py",
   "mimetype": "text/x-python",
   "name": "python",
   "nbconvert_exporter": "python",
   "pygments_lexer": "ipython3",
   "version": "3.11.4"
  }
 },
 "nbformat": 4,
 "nbformat_minor": 1
}
