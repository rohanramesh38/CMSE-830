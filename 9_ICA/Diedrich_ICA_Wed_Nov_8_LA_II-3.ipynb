{
 "cells": [
  {
   "cell_type": "markdown",
   "metadata": {
    "id": "1k6b_oMG3upi"
   },
   "source": [
    "______\n",
    "\n",
    "# <font color=#FF00BB> Fun With Linear Algebra</font>\n",
    "\n",
    "In this ICA we will explore many linear algebra ideas using code, and perhaps a little math."
   ]
  },
  {
   "cell_type": "markdown",
   "metadata": {
    "id": "3UslEXxLtvob"
   },
   "source": [
    "## <font color=#FFBB00> Inner and Outer Products</font>\n",
    "\n",
    "Here are two vectors:\n",
    "$${\\bf x} = \\begin{bmatrix} 1 \\\\ 3 \\\\ 2\\end{bmatrix} ,$$\n",
    "$${\\bf y} = \\begin{bmatrix} -1 \\\\ 1 \\\\ 7\\end{bmatrix} .$$\n",
    "\n",
    "Find all possible inner and outer products, putting all details in a markdown cell. Do this completely by hand and show all work."
   ]
  },
  {
   "cell_type": "markdown",
   "metadata": {},
   "source": [
    "**Formula for calculating inner products:**\n",
    "\n",
    "$$\\mathbf{x} \\cdot \\mathbf{y} = x_1y_1 + x_2y_2 + x_3y_3$$\n",
    "\n",
    "**Vectors for $\\mathbf{x}$ and $\\mathbf{y}$:**\n",
    "\n",
    "$$\\mathbf{x} = \\begin{bmatrix} 1 \\\\ 3 \\\\ 2\\end{bmatrix}, \\quad \\mathbf{y} = \\begin{bmatrix} -1 \\\\ 1 \\\\ 7\\end{bmatrix}$$\n",
    "\n",
    "**Plugging into the dot product formula:**\n",
    "\n",
    "$$\\mathbf{x} \\cdot \\mathbf{y} = (1)(-1) + (3)(1) + (2)(7) = -1 + 3 + 14 = 16$$"
   ]
  },
  {
   "cell_type": "markdown",
   "metadata": {},
   "source": [
    "**Formula for calculating the outer products:**\n",
    "\n",
    "$$\\mathbf{x} \\otimes \\mathbf{y} = \\mathbf{x} \\mathbf{y}^T$$\n",
    "\n",
    "**Plugging into the formula:**\n",
    "\n",
    "$$\\mathbf{x} \\otimes \\mathbf{y} = \\begin{bmatrix} 1 \\\\ 3 \\\\ 2\\end{bmatrix} \\begin{bmatrix} -1 & 1 & 7\\end{bmatrix} = \\begin{bmatrix} -1 & 1 & 7 \\\\ -3 & 3 & 21 \\\\ -2 & 2 & 14\\end{bmatrix}$$"
   ]
  },
  {
   "cell_type": "markdown",
   "metadata": {
    "id": "w5VrHUpouf-t"
   },
   "source": [
    "_________\n",
    "\n",
    "Familiarize yourself with the NumPy documentation for the `linalg` library, which is [here](https://numpy.org/doc/stable/reference/routines.linalg.html#module-numpy.linalg).\n",
    "\n",
    "How does `linalg` store vectors? Does NumPy perform some operations directly, as in with `np.method` or do you always need to use `np.linalg.method`? Put a discussion in a markdown cell."
   ]
  },
  {
   "cell_type": "markdown",
   "metadata": {},
   "source": [
    "**`linalg` stores vectors as one-dimensional arrays.**\n",
    "\n",
    "**With NumPy, you can perform some operations directly (e.g., inner and outer), while others require you to use `linalg.method`.**"
   ]
  },
  {
   "cell_type": "code",
   "execution_count": 7,
   "metadata": {
    "executionInfo": {
     "elapsed": 286,
     "status": "ok",
     "timestamp": 1699443678597,
     "user": {
      "displayName": "Michael Murillo",
      "userId": "04445914509865448303"
     },
     "user_tz": 300
    },
    "id": "4rDLWC_sueMI"
   },
   "outputs": [],
   "source": [
    "x = np.array([1, 3, 2])\n",
    "y = np.array([-1, 1, 7])"
   ]
  },
  {
   "cell_type": "markdown",
   "metadata": {
    "id": "D7qrfq6gwFO0"
   },
   "source": [
    "Find/learn the methods in NumPy that perform inner and outer products.\n",
    "\n",
    "Using those libraries, compute with NumPy all inner and outer products of $x$ and $y$. Do you get the same answers as you got when you did this by hand?\n",
    "\n",
    "In a markdown cell, discuss the sizes of the mathematical objects. In particular, how much memory is needed to store the two vectors relative to the size of what their outer product produces? Does it feel to you that somehow the outer product is generating \"new information\" somehow?\n",
    "\n",
    "Stop and have a discussion with your group. Quiz each other to be sure each person can articulate what you did before continuing."
   ]
  },
  {
   "cell_type": "code",
   "execution_count": 8,
   "metadata": {},
   "outputs": [
    {
     "data": {
      "text/plain": [
       "16"
      ]
     },
     "execution_count": 8,
     "metadata": {},
     "output_type": "execute_result"
    }
   ],
   "source": [
    "# Inner products\n",
    "np.inner(x, y)"
   ]
  },
  {
   "cell_type": "code",
   "execution_count": 9,
   "metadata": {},
   "outputs": [
    {
     "data": {
      "text/plain": [
       "array([[-1,  1,  7],\n",
       "       [-3,  3, 21],\n",
       "       [-2,  2, 14]])"
      ]
     },
     "execution_count": 9,
     "metadata": {},
     "output_type": "execute_result"
    }
   ],
   "source": [
    "# Outer products\n",
    "np.outer(x, y)"
   ]
  },
  {
   "cell_type": "markdown",
   "metadata": {},
   "source": [
    "**We got the same answers by hand as we did using NumPy.**\n",
    "\n",
    "**The memory necessary to store a matrix is larger than the memory needed to store two vectors. The outer product is generating new information, because the components of the two vectors are being multiplied together.**"
   ]
  }
 ],
 "metadata": {
  "colab": {
   "authorship_tag": "ABX9TyNW2/ibJlPtjsHEvfKhtS/E",
   "provenance": []
  },
  "kernelspec": {
   "display_name": "Python 3 (ipykernel)",
   "language": "python",
   "name": "python3"
  },
  "language_info": {
   "codemirror_mode": {
    "name": "ipython",
    "version": 3
   },
   "file_extension": ".py",
   "mimetype": "text/x-python",
   "name": "python",
   "nbconvert_exporter": "python",
   "pygments_lexer": "ipython3",
   "version": "3.10.9"
  }
 },
 "nbformat": 4,
 "nbformat_minor": 1
}
